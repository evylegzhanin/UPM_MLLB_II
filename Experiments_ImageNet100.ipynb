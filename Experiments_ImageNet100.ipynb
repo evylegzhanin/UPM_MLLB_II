{
  "cells": [
    {
      "cell_type": "markdown",
      "metadata": {
        "id": "U9ZJXVuypwzC"
      },
      "source": [
        "Experiments with neural networks to improve performance or just check the influence of changing some parameters on the model performance"
      ]
    },
    {
      "cell_type": "markdown",
      "metadata": {
        "id": "B5U-T7ut2IR4"
      },
      "source": [
        "Import libraries"
      ]
    },
    {
      "cell_type": "code",
      "execution_count": null,
      "metadata": {
        "id": "6GEphOfrp7wX"
      },
      "outputs": [],
      "source": [
        "import numpy as np\n",
        "import pandas as pd\n",
        "import matplotlib.pyplot as plt\n",
        "import tensorflow as tf\n",
        "import os\n",
        "from tensorflow.keras.models import Sequential \n",
        "from tensorflow.keras.layers import Conv2D, Dense, Flatten, Input, BatchNormalization\n",
        "from tensorflow.keras.layers import Dropout, LSTM, TimeDistributed, MaxPool2D, Reshape\n",
        "from tensorflow.keras.applications import resnet50\n",
        "from sklearn.metrics         import accuracy_score"
      ]
    },
    {
      "cell_type": "markdown",
      "metadata": {
        "id": "mdjKVPBl2Nko"
      },
      "source": [
        "Connect to Google Colab"
      ]
    },
    {
      "cell_type": "code",
      "execution_count": null,
      "metadata": {
        "colab": {
          "base_uri": "https://localhost:8080/"
        },
        "id": "gIkSYul0qgpW",
        "outputId": "b217f4bc-1870-41ee-92f2-3df06ef7f70b"
      },
      "outputs": [
        {
          "output_type": "stream",
          "name": "stdout",
          "text": [
            "Drive already mounted at /content/drive; to attempt to forcibly remount, call drive.mount(\"/content/drive\", force_remount=True).\n"
          ]
        }
      ],
      "source": [
        "from google.colab import drive\n",
        "drive.mount('/content/drive', force_remount=False)"
      ]
    },
    {
      "cell_type": "markdown",
      "metadata": {
        "id": "Edl4Bzwn2RB8"
      },
      "source": [
        "Upload prepared NumPy arrays"
      ]
    },
    {
      "cell_type": "code",
      "execution_count": null,
      "metadata": {
        "id": "cFclCBk2qlDW"
      },
      "outputs": [],
      "source": [
        "link_to_drive = '/content/drive/MyDrive/DL_Final_Project/'\n",
        "X_val   = np.load(link_to_drive + 'X_val.npy')\n",
        "X_train = np.load(link_to_drive + 'X_train.npy')\n",
        "y_val   = np.load(link_to_drive + 'y_val.npy')\n",
        "y_train = np.load(link_to_drive + 'y_train.npy')\n",
        "X_test  = np.load(link_to_drive + 'X_test.npy')\n",
        "y_test  = pd.read_csv(link_to_drive + 'Test.csv')"
      ]
    },
    {
      "cell_type": "markdown",
      "metadata": {
        "id": "8RPSectT2VK0"
      },
      "source": [
        "Function to build AlexNet model\n",
        "\n",
        "\n"
      ]
    },
    {
      "cell_type": "code",
      "execution_count": null,
      "metadata": {
        "id": "0INj6bKNqlbc"
      },
      "outputs": [],
      "source": [
        "def AlexNet_NN(X_train):\n",
        "  model = Sequential()\n",
        "  model.add(Conv2D(filters=96, kernel_size=(3,3), padding='same',\n",
        "                  activation='relu', input_shape=X_train.shape[1:]))\n",
        "  model.add(BatchNormalization())\n",
        "  model.add(MaxPool2D(pool_size=(2,2)))\n",
        "  model.add(Conv2D(filters=256, kernel_size=(3,3), padding='same', activation='relu'))\n",
        "  model.add(BatchNormalization())\n",
        "  model.add(MaxPool2D(pool_size=(2,2)))\n",
        "  model.add(Conv2D(filters=384, kernel_size=(3,3), padding='same', activation='relu'))\n",
        "  model.add(BatchNormalization())\n",
        "  model.add(Conv2D(filters=384, kernel_size=(3,3), padding='same', activation='relu'))\n",
        "  model.add(BatchNormalization())\n",
        "  model.add(Conv2D(filters=256, kernel_size=(3,3), padding='same', activation='relu'))\n",
        "  model.add(BatchNormalization())\n",
        "  model.add(MaxPool2D(pool_size=(2,2)))\n",
        "  model.add(Flatten())\n",
        "  model.add(Dense(4096, activation='relu'))\n",
        "  model.add(Dropout(rate=0.5))\n",
        "  model.add(Dense(4096, activation='relu'))\n",
        "  model.add(Dropout(rate=0.5))\n",
        "  model.add(Dense(43, activation='softmax'))\n",
        "  return model"
      ]
    },
    {
      "cell_type": "markdown",
      "source": [
        "Function to build the GoogleNet model"
      ],
      "metadata": {
        "id": "ET8M9DEmYs9B"
      }
    },
    {
      "cell_type": "code",
      "source": [
        "def VGG_NN(X_train):\n",
        "  model = Sequential()\n",
        "  model.add(Conv2D(filters=64, kernel_size=(3,3), padding='same',\n",
        "                  activation='relu', input_shape=X_train.shape[1:]))\n",
        "  model.add(Conv2D(filters=64, kernel_size=(3,3), padding='same', activation='relu'))\n",
        "  model.add(MaxPool2D(pool_size=(2,2),padding='same'))\n",
        "  model.add(Conv2D(filters=128, kernel_size=(3,3), padding='same', activation='relu'))\n",
        "  model.add(Conv2D(filters=128, kernel_size=(3,3), padding='same', activation='relu'))\n",
        "  model.add(MaxPool2D(pool_size=(2,2),padding='same'))\n",
        "  model.add(Conv2D(filters=256, kernel_size=(3,3), padding='same', activation='relu'))\n",
        "  model.add(Conv2D(filters=256, kernel_size=(3,3), padding='same', activation='relu'))\n",
        "  model.add(Conv2D(filters=256, kernel_size=(3,3), padding='same', activation='relu'))\n",
        "  model.add(MaxPool2D(pool_size=(2,2),padding='same'))\n",
        "  model.add(Conv2D(filters=512, kernel_size=(3,3), padding='same', activation='relu'))\n",
        "  model.add(Conv2D(filters=512, kernel_size=(3,3), padding='same', activation='relu'))\n",
        "  model.add(Conv2D(filters=512, kernel_size=(3,3), padding='same', activation='relu'))\n",
        "  model.add(MaxPool2D(pool_size=(2,2),padding='same'))\n",
        "  model.add(Conv2D(filters=512, kernel_size=(3,3), padding='same', activation='relu'))\n",
        "  model.add(Conv2D(filters=512, kernel_size=(3,3), padding='same', activation='relu'))\n",
        "  model.add(Conv2D(filters=512, kernel_size=(3,3), padding='same', activation='relu'))\n",
        "  model.add(MaxPool2D(pool_size=(2,2),padding='same'))\n",
        "  model.add(Flatten())\n",
        "  model.add(Dense(4096, activation='relu'))\n",
        "  model.add(Dense(4096, activation='relu'))\n",
        "  model.add(Dense(43, activation='softmax'))\n",
        "  return model"
      ],
      "metadata": {
        "id": "5HdN-XKKYx0D"
      },
      "execution_count": null,
      "outputs": []
    },
    {
      "cell_type": "markdown",
      "source": [
        "Function to define ResNet50 model"
      ],
      "metadata": {
        "id": "6nHJWnEr_JaN"
      }
    },
    {
      "cell_type": "code",
      "source": [
        "def ResNet_NN(X_train):\n",
        "  input_image = Input(shape=X_train.shape[1:])\n",
        "  model = tf.keras.applications.ResNet50(include_top=True, \n",
        "                                            input_tensor=input_image,\n",
        "                                            weights=None, \n",
        "                                            input_shape=None, \n",
        "                                            pooling=None, \n",
        "                                            classes=43)\n",
        "  return model"
      ],
      "metadata": {
        "id": "bQ9RMaoYvxS0"
      },
      "execution_count": null,
      "outputs": []
    },
    {
      "cell_type": "markdown",
      "source": [
        "Initialization of some parameters"
      ],
      "metadata": {
        "id": "qQaAl9AgSfqW"
      }
    },
    {
      "cell_type": "code",
      "source": [
        "epochs = 10\n",
        "batch_size = 128\n",
        "learning_rate = 1e-2\n",
        "opt = tf.optimizers.SGD(learning_rate=learning_rate, momentum=0.9, decay=0)\n",
        "loss_func = 'categorical_crossentropy'\n",
        "metrics=['accuracy']"
      ],
      "metadata": {
        "id": "0KRqaR7HSiZq"
      },
      "execution_count": null,
      "outputs": []
    },
    {
      "cell_type": "markdown",
      "source": [
        "Choose ImageNet-100 model"
      ],
      "metadata": {
        "id": "fUXSl_ywQ0F0"
      }
    },
    {
      "cell_type": "code",
      "source": [
        "chosen_model = \"ResNet\" # (Options: AlexNet, VGG, ResNet)\n",
        "\n",
        "if chosen_model == \"AlexNet\":\n",
        "  print('AlexNet has been chosen')\n",
        "  model = AlexNet_NN(X_train)\n",
        "elif chosen_model == \"VGG\":\n",
        "  print('VGG-16 has been chosen')\n",
        "  model = VGG_NN(X_train)\n",
        "elif chosen_model == \"ResNet\":\n",
        "  print('ResNet has been chosen')\n",
        "  model = ResNet_NN(X_train)"
      ],
      "metadata": {
        "colab": {
          "base_uri": "https://localhost:8080/"
        },
        "id": "W5CFrYEzQ19F",
        "outputId": "046fb4d2-64af-4a55-a7ee-eabe8b1f1a91"
      },
      "execution_count": null,
      "outputs": [
        {
          "output_type": "stream",
          "name": "stdout",
          "text": [
            "ResNet has been chosen\n"
          ]
        }
      ]
    },
    {
      "cell_type": "markdown",
      "source": [
        "Compiling and fitting the chosen model"
      ],
      "metadata": {
        "id": "r5fItRjdSZnb"
      }
    },
    {
      "cell_type": "code",
      "source": [
        "model.compile(loss=loss_func, \n",
        "              optimizer=opt, \n",
        "              metrics=metrics)\n",
        "\n",
        "history = model.fit(X_train, y_train, batch_size=batch_size, epochs=epochs, validation_data=(X_val, y_val))"
      ],
      "metadata": {
        "id": "SqETYYRtSZLB",
        "colab": {
          "base_uri": "https://localhost:8080/"
        },
        "outputId": "8eb1b454-a4b7-4a08-a68c-7eeb0b0acdf0"
      },
      "execution_count": null,
      "outputs": [
        {
          "output_type": "stream",
          "name": "stdout",
          "text": [
            "Epoch 1/10\n",
            "246/246 [==============================] - 47s 163ms/step - loss: 4.5931 - accuracy: 0.1289 - val_loss: 9.4454 - val_accuracy: 0.0685\n",
            "Epoch 2/10\n",
            "246/246 [==============================] - 39s 157ms/step - loss: 3.6012 - accuracy: 0.2076 - val_loss: 36.9279 - val_accuracy: 0.0709\n",
            "Epoch 3/10\n",
            "246/246 [==============================] - 38s 156ms/step - loss: 3.2182 - accuracy: 0.2926 - val_loss: 6.3690 - val_accuracy: 0.0673\n",
            "Epoch 4/10\n",
            "246/246 [==============================] - 38s 155ms/step - loss: 2.3335 - accuracy: 0.4329 - val_loss: 2.3297 - val_accuracy: 0.3170\n",
            "Epoch 5/10\n",
            "246/246 [==============================] - 38s 156ms/step - loss: 1.5260 - accuracy: 0.5956 - val_loss: 2.4228 - val_accuracy: 0.3462\n",
            "Epoch 6/10\n",
            "246/246 [==============================] - 38s 155ms/step - loss: 1.5151 - accuracy: 0.6166 - val_loss: 1.3907 - val_accuracy: 0.5658\n",
            "Epoch 7/10\n",
            "246/246 [==============================] - 38s 155ms/step - loss: 1.1269 - accuracy: 0.7242 - val_loss: 1.1513 - val_accuracy: 0.6636\n",
            "Epoch 8/10\n",
            "246/246 [==============================] - 38s 155ms/step - loss: 1.2409 - accuracy: 0.7155 - val_loss: 0.8205 - val_accuracy: 0.7679\n",
            "Epoch 9/10\n",
            "246/246 [==============================] - 38s 155ms/step - loss: 0.7472 - accuracy: 0.8181 - val_loss: 0.8302 - val_accuracy: 0.8299\n",
            "Epoch 10/10\n",
            "246/246 [==============================] - 38s 155ms/step - loss: 0.5971 - accuracy: 0.8687 - val_loss: 0.5647 - val_accuracy: 0.8378\n"
          ]
        }
      ]
    },
    {
      "cell_type": "code",
      "execution_count": null,
      "metadata": {
        "id": "c7jujjd-2DPS",
        "colab": {
          "base_uri": "https://localhost:8080/",
          "height": 295
        },
        "outputId": "293464d8-087c-46a8-edfa-53b0061f6efc"
      },
      "outputs": [
        {
          "output_type": "display_data",
          "data": {
            "image/png": "[encoded data removed]",
            "text/plain": [
              "<Figure size 432x288 with 2 Axes>"
            ]
          },
          "metadata": {
            "needs_background": "light"
          }
        }
      ],
      "source": [
        "plt.subplot(2, 1, 1)\n",
        "plt.plot(history.history['accuracy'], label='training accuracy')\n",
        "plt.plot(history.history['val_accuracy'], label='val accuracy')\n",
        "plt.title('Accuracy and Loss')\n",
        "plt.xlabel('epochs')\n",
        "plt.ylabel('accuracy')\n",
        "plt.legend()\n",
        "\n",
        "plt.subplot(2, 1, 2)\n",
        "plt.plot(history.history['loss'], label='training loss')\n",
        "plt.plot(history.history['val_loss'], label='val loss')\n",
        "plt.xlabel('epochs')\n",
        "plt.ylabel('loss')\n",
        "plt.legend()\n",
        "\n",
        "plt.savefig(chosen_model + '_accuracy_loss.png')"
      ]
    },
    {
      "cell_type": "code",
      "execution_count": null,
      "metadata": {
        "id": "nFROLc_H2FhK",
        "colab": {
          "base_uri": "https://localhost:8080/"
        },
        "outputId": "7c23d10e-4c3c-43e7-fdab-45b4c64c86a8"
      },
      "outputs": [
        {
          "output_type": "stream",
          "name": "stdout",
          "text": [
            "0.7044338875692795\n"
          ]
        }
      ],
      "source": [
        "predict_x=model.predict(X_test) \n",
        "classes_x=np.argmax(predict_x,axis=1)\n",
        "\n",
        "labels = y_test['ClassId'].values\n",
        "print(accuracy_score(labels, classes_x))"
      ]
    }
  ],
  "metadata": {
    "accelerator": "GPU",
    "colab": {
      "name": "Experiments_ImageNet100.ipynb",
      "provenance": []
    },
    "kernelspec": {
      "display_name": "Python 3",
      "name": "python3"
    },
    "language_info": {
      "name": "python"
    }
  },
  "nbformat": 4,
  "nbformat_minor": 0
}