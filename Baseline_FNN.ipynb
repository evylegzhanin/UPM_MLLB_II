{
  "cells": [
    {
      "cell_type": "markdown",
      "metadata": {
        "id": "KLzDOuXNuLq4"
      },
      "source": [
        "Import necessary libraries"
      ]
    },
    {
      "cell_type": "code",
      "execution_count": null,
      "metadata": {
        "id": "BMI0NUFttmhl"
      },
      "outputs": [],
      "source": [
        "import numpy as np\n",
        "import pandas as pd\n",
        "import matplotlib.pyplot as plt\n",
        "import tensorflow as tf\n",
        "import os\n",
        "from tensorflow.keras.optimizers import SGD\n",
        "from tensorflow.keras.models import Sequential \n",
        "from tensorflow.keras.layers import Conv2D, MaxPool2D, Dense, Flatten, Dropout\n",
        "from sklearn.metrics import accuracy_score\n"
      ]
    },
    {
      "cell_type": "markdown",
      "metadata": {
        "id": "JiTgrvjAwc2V"
      },
      "source": [
        "Connect your Google Drive. \n",
        "Since the files are quite big, it is much more convinient to upload them in a cloud service."
      ]
    },
    {
      "cell_type": "code",
      "execution_count": null,
      "metadata": {
        "colab": {
          "base_uri": "https://localhost:8080/"
        },
        "id": "yaQIUzakwsco",
        "outputId": "42f908e8-1c43-4b64-ae93-3ceae522c554"
      },
      "outputs": [
        {
          "output_type": "stream",
          "name": "stdout",
          "text": [
            "Drive already mounted at /content/drive; to attempt to forcibly remount, call drive.mount(\"/content/drive\", force_remount=True).\n"
          ]
        }
      ],
      "source": [
        "from google.colab import drive\n",
        "drive.mount('/content/drive', force_remount=False)"
      ]
    },
    {
      "cell_type": "markdown",
      "metadata": {
        "id": "YFqpc37DuWHs"
      },
      "source": [
        "Read prepared train-test files"
      ]
    },
    {
      "cell_type": "code",
      "execution_count": null,
      "metadata": {
        "id": "SPSjexvnxWSE"
      },
      "outputs": [],
      "source": [
        "link_to_drive = '/content/drive/MyDrive/DL_Final_Project/'"
      ]
    },
    {
      "cell_type": "code",
      "execution_count": null,
      "metadata": {
        "id": "HQfe0L_QuHaw"
      },
      "outputs": [],
      "source": [
        "X_val   = np.load(link_to_drive + 'X_val.npy')\n",
        "X_train = np.load(link_to_drive + 'X_train.npy')\n",
        "y_val   = np.load(link_to_drive + 'y_val.npy')\n",
        "y_train = np.load(link_to_drive + 'y_train.npy')\n",
        "X_test  = np.load(link_to_drive + 'X_test.npy')\n",
        "y_test  = pd.read_csv(link_to_drive + 'Test.csv')"
      ]
    },
    {
      "cell_type": "markdown",
      "source": [
        "Initialization"
      ],
      "metadata": {
        "id": "Pvh86IwS8uRh"
      }
    },
    {
      "cell_type": "code",
      "source": [
        "epochs = 100\n",
        "batch_size = 64\n",
        "loss_function = 'categorical_crossentropy'\n",
        "optimizer = 'adam'\n",
        "metrics = ['accuracy']"
      ],
      "metadata": {
        "id": "Ev9mUUyM8vwd"
      },
      "execution_count": null,
      "outputs": []
    },
    {
      "cell_type": "markdown",
      "metadata": {
        "id": "0baBDU5EyPVd"
      },
      "source": [
        "Build a Feed Forward Neural Network (FNN)."
      ]
    },
    {
      "cell_type": "code",
      "source": [
        "X_test.shape"
      ],
      "metadata": {
        "colab": {
          "base_uri": "https://localhost:8080/"
        },
        "id": "MlQqZiIJkqCM",
        "outputId": "0a2d45be-2a19-4f9d-bbd9-0ab459f06d5d"
      },
      "execution_count": null,
      "outputs": [
        {
          "output_type": "execute_result",
          "data": {
            "text/plain": [
              "(12630, 30, 30, 3)"
            ]
          },
          "metadata": {},
          "execution_count": 104
        }
      ]
    },
    {
      "cell_type": "code",
      "source": [
        "X_train = X_train.reshape([-1, X_train.shape[1]*X_train.shape[2]*X_train.shape[3]])\n",
        "X_test  = X_test.reshape([-1, X_test.shape[1]*X_test.shape[2]*X_test.shape[3]])\n",
        "X_val = X_val.reshape([-1, X_val.shape[1]*X_val.shape[2]*X_val.shape[3]])"
      ],
      "metadata": {
        "id": "GpTa-a-fkBTc"
      },
      "execution_count": null,
      "outputs": []
    },
    {
      "cell_type": "code",
      "source": [
        "print('Train shape =', X_train.shape , '\\nTest shape =', X_test.shape)"
      ],
      "metadata": {
        "colab": {
          "base_uri": "https://localhost:8080/"
        },
        "id": "aOkYcYcOkuFo",
        "outputId": "386b04e0-aa67-4a63-ac4b-02fe27d458a4"
      },
      "execution_count": null,
      "outputs": [
        {
          "output_type": "stream",
          "name": "stdout",
          "text": [
            "Train shape = (31367, 2700) \n",
            "Test shape = (12630, 2700)\n"
          ]
        }
      ]
    },
    {
      "cell_type": "code",
      "source": [
        "y_train.shape[1]"
      ],
      "metadata": {
        "colab": {
          "base_uri": "https://localhost:8080/"
        },
        "id": "xHpTuqqomcCv",
        "outputId": "75888f0a-70da-4677-d339-bd570a0fd943"
      },
      "execution_count": null,
      "outputs": [
        {
          "output_type": "execute_result",
          "data": {
            "text/plain": [
              "43"
            ]
          },
          "metadata": {},
          "execution_count": 107
        }
      ]
    },
    {
      "cell_type": "code",
      "execution_count": null,
      "metadata": {
        "id": "SQVuWAU0umvz",
        "colab": {
          "base_uri": "https://localhost:8080/"
        },
        "outputId": "65b43724-a4d5-40e4-8872-48f6a93566da"
      },
      "outputs": [
        {
          "output_type": "stream",
          "name": "stderr",
          "text": [
            "/usr/local/lib/python3.7/dist-packages/keras/optimizer_v2/gradient_descent.py:102: UserWarning: The `lr` argument is deprecated, use `learning_rate` instead.\n",
            "  super(SGD, self).__init__(name, **kwargs)\n"
          ]
        }
      ],
      "source": [
        "model = Sequential()\n",
        "model.add(Dense(256, input_dim=X_train.shape[1], activation=\"relu\"))\n",
        "model.add(Dense(128, activation='sigmoid'))\n",
        "model.add(Dense(64, activation='sigmoid'))\n",
        "model.add(Dense(43, activation='softmax'))\n",
        "\n",
        "sgd = SGD(lr=0.0005, decay=1e-6, momentum=0.9, nesterov=True)\n",
        "model.compile(loss=loss_function, optimizer=sgd, metrics=metrics)"
      ]
    },
    {
      "cell_type": "code",
      "source": [
        "model.summary()"
      ],
      "metadata": {
        "colab": {
          "base_uri": "https://localhost:8080/"
        },
        "id": "hnpkS5fJl1-_",
        "outputId": "66930ff6-1ff0-4f86-8bac-01e0b32f7b11"
      },
      "execution_count": null,
      "outputs": [
        {
          "output_type": "stream",
          "name": "stdout",
          "text": [
            "Model: \"sequential_7\"\n",
            "_________________________________________________________________\n",
            " Layer (type)                Output Shape              Param #   \n",
            "=================================================================\n",
            " dense_24 (Dense)            (None, 256)               691456    \n",
            "                                                                 \n",
            " dense_25 (Dense)            (None, 128)               32896     \n",
            "                                                                 \n",
            " dense_26 (Dense)            (None, 64)                8256      \n",
            "                                                                 \n",
            " dense_27 (Dense)            (None, 43)                2795      \n",
            "                                                                 \n",
            "=================================================================\n",
            "Total params: 735,403\n",
            "Trainable params: 735,403\n",
            "Non-trainable params: 0\n",
            "_________________________________________________________________\n"
          ]
        }
      ]
    },
    {
      "cell_type": "markdown",
      "metadata": {
        "id": "NUxh3mXLzhi7"
      },
      "source": [
        "Train the FNN model"
      ]
    },
    {
      "cell_type": "code",
      "execution_count": null,
      "metadata": {
        "colab": {
          "base_uri": "https://localhost:8080/"
        },
        "id": "lF_T_LyTx7Mm",
        "outputId": "5cf80278-9231-4033-828c-c48930e6956b"
      },
      "outputs": [
        {
          "output_type": "stream",
          "name": "stdout",
          "text": [
            "Epoch 1/100\n",
            "491/491 [==============================] - 2s 4ms/step - loss: 3.6306 - accuracy: 0.0596 - val_loss: 3.4833 - val_accuracy: 0.1171\n",
            "Epoch 2/100\n",
            "491/491 [==============================] - 2s 3ms/step - loss: 3.4271 - accuracy: 0.1648 - val_loss: 3.3670 - val_accuracy: 0.2150\n",
            "Epoch 3/100\n",
            "491/491 [==============================] - 2s 3ms/step - loss: 3.3349 - accuracy: 0.2307 - val_loss: 3.2843 - val_accuracy: 0.2494\n",
            "Epoch 4/100\n",
            "491/491 [==============================] - 2s 4ms/step - loss: 3.2466 - accuracy: 0.2506 - val_loss: 3.1861 - val_accuracy: 0.2689\n",
            "Epoch 5/100\n",
            "491/491 [==============================] - 2s 3ms/step - loss: 3.1404 - accuracy: 0.2710 - val_loss: 3.0734 - val_accuracy: 0.2911\n",
            "Epoch 6/100\n",
            "491/491 [==============================] - 2s 3ms/step - loss: 3.0229 - accuracy: 0.2935 - val_loss: 2.9658 - val_accuracy: 0.3054\n",
            "Epoch 7/100\n",
            "491/491 [==============================] - 2s 3ms/step - loss: 2.8963 - accuracy: 0.3226 - val_loss: 2.8151 - val_accuracy: 0.3568\n",
            "Epoch 8/100\n",
            "491/491 [==============================] - 2s 4ms/step - loss: 2.7604 - accuracy: 0.3646 - val_loss: 2.6892 - val_accuracy: 0.3820\n",
            "Epoch 9/100\n",
            "491/491 [==============================] - 2s 3ms/step - loss: 2.6264 - accuracy: 0.4036 - val_loss: 2.5566 - val_accuracy: 0.4273\n",
            "Epoch 10/100\n",
            "491/491 [==============================] - 2s 3ms/step - loss: 2.4942 - accuracy: 0.4441 - val_loss: 2.4315 - val_accuracy: 0.4311\n",
            "Epoch 11/100\n",
            "491/491 [==============================] - 2s 4ms/step - loss: 2.3737 - accuracy: 0.4683 - val_loss: 2.3304 - val_accuracy: 0.4830\n",
            "Epoch 12/100\n",
            "491/491 [==============================] - 2s 3ms/step - loss: 2.2602 - accuracy: 0.5041 - val_loss: 2.1970 - val_accuracy: 0.5136\n",
            "Epoch 13/100\n",
            "491/491 [==============================] - 2s 4ms/step - loss: 2.1525 - accuracy: 0.5294 - val_loss: 2.1001 - val_accuracy: 0.5330\n",
            "Epoch 14/100\n",
            "491/491 [==============================] - 2s 3ms/step - loss: 2.0556 - accuracy: 0.5534 - val_loss: 2.0137 - val_accuracy: 0.5644\n",
            "Epoch 15/100\n",
            "491/491 [==============================] - 2s 3ms/step - loss: 1.9660 - accuracy: 0.5783 - val_loss: 1.9262 - val_accuracy: 0.5757\n",
            "Epoch 16/100\n",
            "491/491 [==============================] - 2s 3ms/step - loss: 1.8807 - accuracy: 0.6034 - val_loss: 1.8512 - val_accuracy: 0.6178\n",
            "Epoch 17/100\n",
            "491/491 [==============================] - 2s 4ms/step - loss: 1.8012 - accuracy: 0.6223 - val_loss: 1.7767 - val_accuracy: 0.6363\n",
            "Epoch 18/100\n",
            "491/491 [==============================] - 2s 3ms/step - loss: 1.7274 - accuracy: 0.6417 - val_loss: 1.7133 - val_accuracy: 0.6252\n",
            "Epoch 19/100\n",
            "491/491 [==============================] - 2s 3ms/step - loss: 1.6605 - accuracy: 0.6516 - val_loss: 1.6407 - val_accuracy: 0.6560\n",
            "Epoch 20/100\n",
            "491/491 [==============================] - 2s 3ms/step - loss: 1.5914 - accuracy: 0.6698 - val_loss: 1.5731 - val_accuracy: 0.6589\n",
            "Epoch 21/100\n",
            "491/491 [==============================] - 2s 3ms/step - loss: 1.5267 - accuracy: 0.6814 - val_loss: 1.5078 - val_accuracy: 0.6744\n",
            "Epoch 22/100\n",
            "491/491 [==============================] - 2s 3ms/step - loss: 1.4702 - accuracy: 0.6911 - val_loss: 1.4574 - val_accuracy: 0.6857\n",
            "Epoch 23/100\n",
            "491/491 [==============================] - 2s 4ms/step - loss: 1.4118 - accuracy: 0.7008 - val_loss: 1.4251 - val_accuracy: 0.6923\n",
            "Epoch 24/100\n",
            "491/491 [==============================] - 2s 3ms/step - loss: 1.3618 - accuracy: 0.7103 - val_loss: 1.4327 - val_accuracy: 0.6730\n",
            "Epoch 25/100\n",
            "491/491 [==============================] - 2s 4ms/step - loss: 1.3151 - accuracy: 0.7167 - val_loss: 1.2998 - val_accuracy: 0.7109\n",
            "Epoch 26/100\n",
            "491/491 [==============================] - 2s 4ms/step - loss: 1.2633 - accuracy: 0.7261 - val_loss: 1.2792 - val_accuracy: 0.7075\n",
            "Epoch 27/100\n",
            "491/491 [==============================] - 2s 4ms/step - loss: 1.2158 - accuracy: 0.7341 - val_loss: 1.2526 - val_accuracy: 0.7207\n",
            "Epoch 28/100\n",
            "491/491 [==============================] - 2s 3ms/step - loss: 1.1769 - accuracy: 0.7396 - val_loss: 1.1886 - val_accuracy: 0.7330\n",
            "Epoch 29/100\n",
            "491/491 [==============================] - 2s 4ms/step - loss: 1.1311 - accuracy: 0.7491 - val_loss: 1.1273 - val_accuracy: 0.7409\n",
            "Epoch 30/100\n",
            "491/491 [==============================] - 2s 4ms/step - loss: 1.0911 - accuracy: 0.7563 - val_loss: 1.1395 - val_accuracy: 0.7303\n",
            "Epoch 31/100\n",
            "491/491 [==============================] - 2s 3ms/step - loss: 1.0607 - accuracy: 0.7590 - val_loss: 1.0685 - val_accuracy: 0.7501\n",
            "Epoch 32/100\n",
            "491/491 [==============================] - 2s 4ms/step - loss: 1.0187 - accuracy: 0.7696 - val_loss: 1.1371 - val_accuracy: 0.7150\n",
            "Epoch 33/100\n",
            "491/491 [==============================] - 2s 4ms/step - loss: 0.9900 - accuracy: 0.7746 - val_loss: 1.0287 - val_accuracy: 0.7529\n",
            "Epoch 34/100\n",
            "491/491 [==============================] - 2s 3ms/step - loss: 0.9569 - accuracy: 0.7832 - val_loss: 0.9715 - val_accuracy: 0.7696\n",
            "Epoch 35/100\n",
            "491/491 [==============================] - 2s 3ms/step - loss: 0.9253 - accuracy: 0.7904 - val_loss: 0.9358 - val_accuracy: 0.7786\n",
            "Epoch 36/100\n",
            "491/491 [==============================] - 2s 4ms/step - loss: 0.8919 - accuracy: 0.7972 - val_loss: 0.9159 - val_accuracy: 0.7827\n",
            "Epoch 37/100\n",
            "491/491 [==============================] - 2s 3ms/step - loss: 0.8661 - accuracy: 0.8041 - val_loss: 0.8705 - val_accuracy: 0.8016\n",
            "Epoch 38/100\n",
            "491/491 [==============================] - 2s 4ms/step - loss: 0.8408 - accuracy: 0.8131 - val_loss: 0.8523 - val_accuracy: 0.8018\n",
            "Epoch 39/100\n",
            "491/491 [==============================] - 2s 3ms/step - loss: 0.8140 - accuracy: 0.8189 - val_loss: 0.8454 - val_accuracy: 0.7978\n",
            "Epoch 40/100\n",
            "491/491 [==============================] - 2s 3ms/step - loss: 0.7878 - accuracy: 0.8238 - val_loss: 0.8089 - val_accuracy: 0.8101\n",
            "Epoch 41/100\n",
            "491/491 [==============================] - 2s 4ms/step - loss: 0.7687 - accuracy: 0.8300 - val_loss: 0.8299 - val_accuracy: 0.7971\n",
            "Epoch 42/100\n",
            "491/491 [==============================] - 2s 4ms/step - loss: 0.7458 - accuracy: 0.8345 - val_loss: 0.7742 - val_accuracy: 0.8220\n",
            "Epoch 43/100\n",
            "491/491 [==============================] - 2s 3ms/step - loss: 0.7277 - accuracy: 0.8412 - val_loss: 0.7592 - val_accuracy: 0.8261\n",
            "Epoch 44/100\n",
            "491/491 [==============================] - 2s 4ms/step - loss: 0.7061 - accuracy: 0.8469 - val_loss: 0.7530 - val_accuracy: 0.8192\n",
            "Epoch 45/100\n",
            "491/491 [==============================] - 2s 3ms/step - loss: 0.6935 - accuracy: 0.8495 - val_loss: 0.7034 - val_accuracy: 0.8409\n",
            "Epoch 46/100\n",
            "491/491 [==============================] - 2s 4ms/step - loss: 0.6681 - accuracy: 0.8575 - val_loss: 0.6891 - val_accuracy: 0.8497\n",
            "Epoch 47/100\n",
            "491/491 [==============================] - 2s 3ms/step - loss: 0.6494 - accuracy: 0.8631 - val_loss: 0.6839 - val_accuracy: 0.8493\n",
            "Epoch 48/100\n",
            "491/491 [==============================] - 2s 4ms/step - loss: 0.6362 - accuracy: 0.8668 - val_loss: 0.6858 - val_accuracy: 0.8430\n",
            "Epoch 49/100\n",
            "491/491 [==============================] - 2s 4ms/step - loss: 0.6186 - accuracy: 0.8716 - val_loss: 0.6470 - val_accuracy: 0.8590\n",
            "Epoch 50/100\n",
            "491/491 [==============================] - 2s 4ms/step - loss: 0.6025 - accuracy: 0.8759 - val_loss: 0.6370 - val_accuracy: 0.8593\n",
            "Epoch 51/100\n",
            "491/491 [==============================] - 2s 3ms/step - loss: 0.5837 - accuracy: 0.8807 - val_loss: 0.6440 - val_accuracy: 0.8585\n",
            "Epoch 52/100\n",
            "491/491 [==============================] - 2s 3ms/step - loss: 0.5740 - accuracy: 0.8825 - val_loss: 0.6907 - val_accuracy: 0.8333\n",
            "Epoch 53/100\n",
            "491/491 [==============================] - 2s 4ms/step - loss: 0.5595 - accuracy: 0.8861 - val_loss: 0.6079 - val_accuracy: 0.8678\n",
            "Epoch 54/100\n",
            "491/491 [==============================] - 2s 4ms/step - loss: 0.5460 - accuracy: 0.8905 - val_loss: 0.5992 - val_accuracy: 0.8683\n",
            "Epoch 55/100\n",
            "491/491 [==============================] - 2s 3ms/step - loss: 0.5354 - accuracy: 0.8950 - val_loss: 0.5722 - val_accuracy: 0.8767\n",
            "Epoch 56/100\n",
            "491/491 [==============================] - 2s 4ms/step - loss: 0.5259 - accuracy: 0.8938 - val_loss: 0.5604 - val_accuracy: 0.8827\n",
            "Epoch 57/100\n",
            "491/491 [==============================] - 2s 3ms/step - loss: 0.5096 - accuracy: 0.8982 - val_loss: 0.5774 - val_accuracy: 0.8708\n",
            "Epoch 58/100\n",
            "491/491 [==============================] - 2s 4ms/step - loss: 0.4972 - accuracy: 0.9041 - val_loss: 0.5470 - val_accuracy: 0.8803\n",
            "Epoch 59/100\n",
            "491/491 [==============================] - 2s 4ms/step - loss: 0.4894 - accuracy: 0.9045 - val_loss: 0.5427 - val_accuracy: 0.8852\n",
            "Epoch 60/100\n",
            "491/491 [==============================] - 2s 4ms/step - loss: 0.4810 - accuracy: 0.9073 - val_loss: 0.5587 - val_accuracy: 0.8842\n",
            "Epoch 61/100\n",
            "491/491 [==============================] - 2s 4ms/step - loss: 0.4653 - accuracy: 0.9120 - val_loss: 0.5063 - val_accuracy: 0.8972\n",
            "Epoch 62/100\n",
            "491/491 [==============================] - 2s 4ms/step - loss: 0.4587 - accuracy: 0.9128 - val_loss: 0.5425 - val_accuracy: 0.8870\n",
            "Epoch 63/100\n",
            "491/491 [==============================] - 2s 3ms/step - loss: 0.4482 - accuracy: 0.9178 - val_loss: 0.5011 - val_accuracy: 0.8998\n",
            "Epoch 64/100\n",
            "491/491 [==============================] - 2s 3ms/step - loss: 0.4337 - accuracy: 0.9210 - val_loss: 0.4773 - val_accuracy: 0.9050\n",
            "Epoch 65/100\n",
            "491/491 [==============================] - 2s 4ms/step - loss: 0.4273 - accuracy: 0.9219 - val_loss: 0.4746 - val_accuracy: 0.9055\n",
            "Epoch 66/100\n",
            "491/491 [==============================] - 2s 3ms/step - loss: 0.4173 - accuracy: 0.9252 - val_loss: 0.4751 - val_accuracy: 0.9055\n",
            "Epoch 67/100\n",
            "491/491 [==============================] - 2s 3ms/step - loss: 0.4139 - accuracy: 0.9264 - val_loss: 0.4425 - val_accuracy: 0.9171\n",
            "Epoch 68/100\n",
            "491/491 [==============================] - 2s 4ms/step - loss: 0.4016 - accuracy: 0.9282 - val_loss: 0.4706 - val_accuracy: 0.8991\n",
            "Epoch 69/100\n",
            "491/491 [==============================] - 2s 4ms/step - loss: 0.3954 - accuracy: 0.9306 - val_loss: 0.4769 - val_accuracy: 0.9028\n",
            "Epoch 70/100\n",
            "491/491 [==============================] - 2s 3ms/step - loss: 0.3892 - accuracy: 0.9319 - val_loss: 0.4305 - val_accuracy: 0.9185\n",
            "Epoch 71/100\n",
            "491/491 [==============================] - 2s 4ms/step - loss: 0.3765 - accuracy: 0.9345 - val_loss: 0.4845 - val_accuracy: 0.9077\n",
            "Epoch 72/100\n",
            "491/491 [==============================] - 2s 4ms/step - loss: 0.3773 - accuracy: 0.9335 - val_loss: 0.4836 - val_accuracy: 0.8980\n",
            "Epoch 73/100\n",
            "491/491 [==============================] - 2s 4ms/step - loss: 0.3651 - accuracy: 0.9378 - val_loss: 0.4343 - val_accuracy: 0.9129\n",
            "Epoch 74/100\n",
            "491/491 [==============================] - 2s 3ms/step - loss: 0.3609 - accuracy: 0.9375 - val_loss: 0.4054 - val_accuracy: 0.9237\n",
            "Epoch 75/100\n",
            "491/491 [==============================] - 2s 4ms/step - loss: 0.3488 - accuracy: 0.9416 - val_loss: 0.4077 - val_accuracy: 0.9179\n",
            "Epoch 76/100\n",
            "491/491 [==============================] - 2s 3ms/step - loss: 0.3407 - accuracy: 0.9437 - val_loss: 0.3836 - val_accuracy: 0.9273\n",
            "Epoch 77/100\n",
            "491/491 [==============================] - 2s 4ms/step - loss: 0.3318 - accuracy: 0.9446 - val_loss: 0.3973 - val_accuracy: 0.9211\n",
            "Epoch 78/100\n",
            "491/491 [==============================] - 2s 3ms/step - loss: 0.3303 - accuracy: 0.9456 - val_loss: 0.4133 - val_accuracy: 0.9169\n",
            "Epoch 79/100\n",
            "491/491 [==============================] - 2s 4ms/step - loss: 0.3249 - accuracy: 0.9454 - val_loss: 0.4259 - val_accuracy: 0.9171\n",
            "Epoch 80/100\n",
            "491/491 [==============================] - 2s 4ms/step - loss: 0.3245 - accuracy: 0.9456 - val_loss: 0.4008 - val_accuracy: 0.9251\n",
            "Epoch 81/100\n",
            "491/491 [==============================] - 2s 4ms/step - loss: 0.3121 - accuracy: 0.9491 - val_loss: 0.3544 - val_accuracy: 0.9382\n",
            "Epoch 82/100\n",
            "491/491 [==============================] - 2s 4ms/step - loss: 0.2978 - accuracy: 0.9537 - val_loss: 0.3827 - val_accuracy: 0.9237\n",
            "Epoch 83/100\n",
            "491/491 [==============================] - 2s 4ms/step - loss: 0.2990 - accuracy: 0.9527 - val_loss: 0.5045 - val_accuracy: 0.8831\n",
            "Epoch 84/100\n",
            "491/491 [==============================] - 2s 4ms/step - loss: 0.3046 - accuracy: 0.9509 - val_loss: 0.4345 - val_accuracy: 0.9054\n",
            "Epoch 85/100\n",
            "491/491 [==============================] - 2s 4ms/step - loss: 0.2937 - accuracy: 0.9537 - val_loss: 0.3498 - val_accuracy: 0.9322\n",
            "Epoch 86/100\n",
            "491/491 [==============================] - 2s 4ms/step - loss: 0.2876 - accuracy: 0.9552 - val_loss: 0.3393 - val_accuracy: 0.9416\n",
            "Epoch 87/100\n",
            "491/491 [==============================] - 2s 3ms/step - loss: 0.2793 - accuracy: 0.9579 - val_loss: 0.3448 - val_accuracy: 0.9313\n",
            "Epoch 88/100\n",
            "491/491 [==============================] - 2s 3ms/step - loss: 0.2725 - accuracy: 0.9595 - val_loss: 0.3277 - val_accuracy: 0.9416\n",
            "Epoch 89/100\n",
            "491/491 [==============================] - 2s 3ms/step - loss: 0.2665 - accuracy: 0.9593 - val_loss: 0.3279 - val_accuracy: 0.9411\n",
            "Epoch 90/100\n",
            "491/491 [==============================] - 2s 4ms/step - loss: 0.2625 - accuracy: 0.9618 - val_loss: 0.3248 - val_accuracy: 0.9397\n",
            "Epoch 91/100\n",
            "491/491 [==============================] - 2s 4ms/step - loss: 0.2564 - accuracy: 0.9629 - val_loss: 0.4242 - val_accuracy: 0.9081\n",
            "Epoch 92/100\n",
            "491/491 [==============================] - 2s 4ms/step - loss: 0.2617 - accuracy: 0.9610 - val_loss: 0.3075 - val_accuracy: 0.9445\n",
            "Epoch 93/100\n",
            "491/491 [==============================] - 2s 3ms/step - loss: 0.2472 - accuracy: 0.9645 - val_loss: 0.3043 - val_accuracy: 0.9473\n",
            "Epoch 94/100\n",
            "491/491 [==============================] - 2s 3ms/step - loss: 0.2416 - accuracy: 0.9660 - val_loss: 0.3032 - val_accuracy: 0.9486\n",
            "Epoch 95/100\n",
            "491/491 [==============================] - 2s 4ms/step - loss: 0.2383 - accuracy: 0.9664 - val_loss: 0.3152 - val_accuracy: 0.9397\n",
            "Epoch 96/100\n",
            "491/491 [==============================] - 2s 4ms/step - loss: 0.2347 - accuracy: 0.9682 - val_loss: 0.3088 - val_accuracy: 0.9424\n",
            "Epoch 97/100\n",
            "491/491 [==============================] - 2s 4ms/step - loss: 0.2298 - accuracy: 0.9691 - val_loss: 0.2910 - val_accuracy: 0.9504\n",
            "Epoch 98/100\n",
            "491/491 [==============================] - 2s 4ms/step - loss: 0.2228 - accuracy: 0.9712 - val_loss: 0.2898 - val_accuracy: 0.9467\n",
            "Epoch 99/100\n",
            "491/491 [==============================] - 2s 4ms/step - loss: 0.2227 - accuracy: 0.9710 - val_loss: 0.3269 - val_accuracy: 0.9371\n",
            "Epoch 100/100\n",
            "491/491 [==============================] - 2s 4ms/step - loss: 0.2209 - accuracy: 0.9717 - val_loss: 0.2947 - val_accuracy: 0.9467\n"
          ]
        }
      ],
      "source": [
        "history = model.fit(X_train, y_train, batch_size=batch_size, epochs=epochs, validation_data=(X_val, y_val))"
      ]
    },
    {
      "cell_type": "markdown",
      "metadata": {
        "id": "mMFW1P9b4DUG"
      },
      "source": [
        "Plot the graphs for accuracy and loss of both datasets"
      ]
    },
    {
      "cell_type": "code",
      "execution_count": null,
      "metadata": {
        "id": "CzNnEPdNzuoz",
        "colab": {
          "base_uri": "https://localhost:8080/",
          "height": 295
        },
        "outputId": "5575e955-6a56-4502-a6fe-6326e5cd4b9d"
      },
      "outputs": [
        {
          "output_type": "display_data",
          "data": {
            "image/png": "[encoded data removed]",
            "text/plain": [
              "<Figure size 432x288 with 2 Axes>"
            ]
          },
          "metadata": {
            "needs_background": "light"
          }
        }
      ],
      "source": [
        "plt.subplot(2, 1, 1)\n",
        "plt.plot(history.history['accuracy'], label='training accuracy')\n",
        "plt.plot(history.history['val_accuracy'], label='val accuracy')\n",
        "plt.title('Accuracy and Loss')\n",
        "plt.xlabel('epochs')\n",
        "plt.ylabel('accuracy')\n",
        "plt.legend()\n",
        "\n",
        "plt.subplot(2, 1, 2)\n",
        "plt.plot(history.history['loss'], label='training loss')\n",
        "plt.plot(history.history['val_loss'], label='val loss')\n",
        "plt.xlabel('epochs')\n",
        "plt.ylabel('loss')\n",
        "plt.legend()\n",
        "\n",
        "plt.savefig('accuracy_loss.png')\n"
      ]
    },
    {
      "cell_type": "markdown",
      "metadata": {
        "id": "En6oB5Bz6K2-"
      },
      "source": [
        "Test the trained model with test dataset"
      ]
    },
    {
      "cell_type": "code",
      "execution_count": null,
      "metadata": {
        "id": "KdZF8AYc6TgQ",
        "colab": {
          "base_uri": "https://localhost:8080/"
        },
        "outputId": "86addee2-2f36-458a-dbde-739e320ef130"
      },
      "outputs": [
        {
          "output_type": "stream",
          "name": "stdout",
          "text": [
            "0.8642121931908155\n"
          ]
        }
      ],
      "source": [
        "predict_x=model.predict(X_test) \n",
        "classes_x=np.argmax(predict_x,axis=1)\n",
        "labels = y_test['ClassId'].values\n",
        "print(accuracy_score(labels, classes_x))"
      ]
    }
  ],
  "metadata": {
    "accelerator": "GPU",
    "colab": {
      "name": "Baseline_FNN.ipynb",
      "provenance": []
    },
    "kernelspec": {
      "display_name": "Python 3",
      "name": "python3"
    },
    "language_info": {
      "name": "python"
    }
  },
  "nbformat": 4,
  "nbformat_minor": 0
}