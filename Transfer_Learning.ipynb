{
  "cells": [
    {
      "cell_type": "markdown",
      "metadata": {
        "id": "KLzDOuXNuLq4"
      },
      "source": [
        "Import necessary libraries"
      ]
    },
    {
      "cell_type": "code",
      "execution_count": null,
      "metadata": {
        "execution": {
          "iopub.execute_input": "2022-01-24T13:44:32.468056Z",
          "iopub.status.busy": "2022-01-24T13:44:32.467713Z",
          "iopub.status.idle": "2022-01-24T13:44:32.474627Z",
          "shell.execute_reply": "2022-01-24T13:44:32.473788Z",
          "shell.execute_reply.started": "2022-01-24T13:44:32.468018Z"
        },
        "id": "BMI0NUFttmhl"
      },
      "outputs": [],
      "source": [
        "import os\n",
        "import numpy as np\n",
        "import pandas as pd\n",
        "import matplotlib.pyplot as plt\n",
        "from tensorflow.keras.optimizers import Adam\n",
        "from tensorflow.keras.models import Sequential, Model \n",
        "from tensorflow.keras.layers import Conv2D, Dense, Flatten, GRU, Input, Lambda\n",
        "from tensorflow.keras.layers import Dropout, LSTM, TimeDistributed, MaxPool2D, Reshape\n",
        "from tensorflow.keras.applications.resnet50 import ResNet50, preprocess_input\n",
        "from tensorflow.keras.preprocessing.image import ImageDataGenerator\n",
        "from tensorflow.keras.callbacks import ModelCheckpoint, EarlyStopping\n",
        "from sklearn.metrics         import accuracy_score"
      ]
    },
    {
      "cell_type": "markdown",
      "metadata": {
        "id": "JiTgrvjAwc2V"
      },
      "source": [
        "Connect your Google Drive. \n",
        "Since the files are quite big, it is much more convinient to upload them in a cloud service."
      ]
    },
    {
      "cell_type": "code",
      "execution_count": null,
      "metadata": {
        "execution": {
          "iopub.execute_input": "2022-01-24T13:44:32.476585Z",
          "iopub.status.busy": "2022-01-24T13:44:32.476228Z",
          "iopub.status.idle": "2022-01-24T13:44:32.487331Z",
          "shell.execute_reply": "2022-01-24T13:44:32.486564Z",
          "shell.execute_reply.started": "2022-01-24T13:44:32.476535Z"
        },
        "id": "yaQIUzakwsco"
      },
      "outputs": [],
      "source": [
        "from google.colab import drive\n",
        "drive.mount('/content/drive', force_remount=False)"
      ]
    },
    {
      "cell_type": "markdown",
      "metadata": {
        "id": "YFqpc37DuWHs"
      },
      "source": [
        "Read prepared train-test files"
      ]
    },
    {
      "cell_type": "code",
      "execution_count": null,
      "metadata": {
        "execution": {
          "iopub.execute_input": "2022-01-24T13:44:32.488985Z",
          "iopub.status.busy": "2022-01-24T13:44:32.488727Z",
          "iopub.status.idle": "2022-01-24T13:44:32.495892Z",
          "shell.execute_reply": "2022-01-24T13:44:32.495258Z",
          "shell.execute_reply.started": "2022-01-24T13:44:32.48895Z"
        },
        "id": "SPSjexvnxWSE"
      },
      "outputs": [],
      "source": [
        "link_to_drive = '/content/drive/MyDrive/DL_Final_Project/' # Link to a folder with the dataset"
      ]
    },
    {
      "cell_type": "markdown",
      "source": [
        "Initialization of the Image data generators"
      ],
      "metadata": {
        "id": "Fih9iHsAA7MJ"
      }
    },
    {
      "cell_type": "code",
      "execution_count": null,
      "metadata": {
        "execution": {
          "iopub.execute_input": "2022-01-24T13:44:32.57145Z",
          "iopub.status.busy": "2022-01-24T13:44:32.571195Z",
          "iopub.status.idle": "2022-01-24T13:44:32.578616Z",
          "shell.execute_reply": "2022-01-24T13:44:32.576621Z",
          "shell.execute_reply.started": "2022-01-24T13:44:32.571415Z"
        },
        "id": "nJ6NKyJArd7B"
      },
      "outputs": [],
      "source": [
        "batch_size = 256\n",
        "\n",
        "train_generator = ImageDataGenerator(rotation_range=90, \n",
        "                                     brightness_range=[0.1, 0.7],\n",
        "                                     width_shift_range=0.5, \n",
        "                                     height_shift_range=0.5,\n",
        "                                     horizontal_flip=True, \n",
        "                                     vertical_flip=True,\n",
        "                                     validation_split=0.15,\n",
        "                                     preprocessing_function=preprocess_input) \n",
        "\n",
        "test_generator = ImageDataGenerator(preprocessing_function=preprocess_input)"
      ]
    },
    {
      "cell_type": "code",
      "execution_count": null,
      "metadata": {
        "execution": {
          "iopub.execute_input": "2022-01-24T13:44:32.58054Z",
          "iopub.status.busy": "2022-01-24T13:44:32.579829Z",
          "iopub.status.idle": "2022-01-24T13:44:32.586946Z",
          "shell.execute_reply": "2022-01-24T13:44:32.586107Z",
          "shell.execute_reply.started": "2022-01-24T13:44:32.580504Z"
        },
        "id": "uEiz7Nzugi9Z"
      },
      "outputs": [],
      "source": [
        "train_data_dir = link_to_drive + 'Train'\n",
        "test_data_dir = link_to_drive"
      ]
    },
    {
      "cell_type": "markdown",
      "source": [
        "Creation of train, validation and test generators"
      ],
      "metadata": {
        "id": "WLSuCZTHBIw9"
      }
    },
    {
      "cell_type": "code",
      "execution_count": null,
      "metadata": {
        "execution": {
          "iopub.execute_input": "2022-01-24T13:44:32.589048Z",
          "iopub.status.busy": "2022-01-24T13:44:32.588267Z",
          "iopub.status.idle": "2022-01-24T13:44:35.224233Z",
          "shell.execute_reply": "2022-01-24T13:44:35.222758Z",
          "shell.execute_reply.started": "2022-01-24T13:44:32.58901Z"
        },
        "id": "UPbMgdtDqE8b"
      },
      "outputs": [],
      "source": [
        "traingen = train_generator.flow_from_directory(train_data_dir,\n",
        "                                               target_size=(32, 32),\n",
        "                                               class_mode='categorical',\n",
        "                                               subset='training',\n",
        "                                               batch_size=batch_size, \n",
        "                                               shuffle=True,\n",
        "                                               seed=42)\n",
        "\n",
        "validgen = train_generator.flow_from_directory(train_data_dir,\n",
        "                                               target_size=(32, 32),\n",
        "                                               class_mode='categorical',\n",
        "                                               subset='validation',\n",
        "                                               batch_size=batch_size,\n",
        "                                               shuffle=True,\n",
        "                                               seed=42)\n",
        "\n",
        "testgen = test_generator.flow_from_directory(test_data_dir,\n",
        "                                             target_size=(32, 32),\n",
        "                                             class_mode=None,\n",
        "                                             classes=['Test'],\n",
        "                                             batch_size=1,\n",
        "                                             shuffle=False,\n",
        "                                             seed=42)"
      ]
    },
    {
      "cell_type": "markdown",
      "source": [
        "Build the model with freezed leyers and last several trainable layers"
      ],
      "metadata": {
        "id": "VJjH4xgGBNTa"
      }
    },
    {
      "cell_type": "code",
      "execution_count": null,
      "metadata": {
        "execution": {
          "iopub.execute_input": "2022-01-24T13:44:35.661931Z",
          "iopub.status.busy": "2022-01-24T13:44:35.661365Z",
          "iopub.status.idle": "2022-01-24T13:44:35.671049Z",
          "shell.execute_reply": "2022-01-24T13:44:35.670241Z",
          "shell.execute_reply.started": "2022-01-24T13:44:35.661892Z"
        },
        "id": "D2HK2Nwo4Quv"
      },
      "outputs": [],
      "source": [
        "def create_model(input_shape, n_classes, optimizer='rmsprop', fine_tune=2):\n",
        " \n",
        "    conv_base = ResNet50(include_top=False,\n",
        "                     weights='imagenet', \n",
        "                     input_shape=input_shape)\n",
        "  \n",
        "    for layer in conv_base.layers[:-fine_tune]:\n",
        "        layer.trainable = False\n",
        "    \n",
        "    top_model = conv_base.output\n",
        "    top_model = Flatten(name=\"flatten\")(top_model)\n",
        "    top_model = Dense(4096, activation='relu')(top_model)\n",
        "    top_model = Dense(1072, activation='relu')(top_model)\n",
        "    top_model = Dropout(0.2)(top_model)\n",
        "    output_layer = Dense(n_classes, activation='softmax')(top_model)\n",
        "\n",
        "    model = Model(inputs=conv_base.input, outputs=output_layer)\n",
        "\n",
        "    model.compile(optimizer=optimizer, \n",
        "                  loss='categorical_crossentropy',\n",
        "                  metrics=['accuracy'])\n",
        "    \n",
        "    return model"
      ]
    },
    {
      "cell_type": "markdown",
      "source": [
        "Initialization of some basic parameters to compile and fit the model"
      ],
      "metadata": {
        "id": "HzZAk0BkBVzK"
      }
    },
    {
      "cell_type": "code",
      "execution_count": null,
      "metadata": {
        "execution": {
          "iopub.execute_input": "2022-01-24T13:44:35.672541Z",
          "iopub.status.busy": "2022-01-24T13:44:35.672204Z",
          "iopub.status.idle": "2022-01-24T13:44:37.018005Z",
          "shell.execute_reply": "2022-01-24T13:44:37.017178Z",
          "shell.execute_reply.started": "2022-01-24T13:44:35.672501Z"
        },
        "id": "DH9LywHugi9f"
      },
      "outputs": [],
      "source": [
        "input_shape = (32, 32, 3)\n",
        "optim_1 = Adam(learning_rate=0.1)\n",
        "n_classes = 43\n",
        "n_steps = traingen.samples // batch_size\n",
        "n_val_steps = validgen.samples // batch_size\n",
        "n_epochs = 2\n",
        "\n",
        "model = create_model(input_shape, n_classes, optim_1, fine_tune=2)"
      ]
    },
    {
      "cell_type": "markdown",
      "source": [
        "Fit the model"
      ],
      "metadata": {
        "id": "IduRgXe-BccC"
      }
    },
    {
      "cell_type": "code",
      "execution_count": null,
      "metadata": {
        "execution": {
          "iopub.execute_input": "2022-01-24T13:44:37.038111Z",
          "iopub.status.busy": "2022-01-24T13:44:37.037461Z"
        },
        "id": "GDCzm6fCgi9h"
      },
      "outputs": [],
      "source": [
        "history = model.fit(traingen,\n",
        "                    batch_size=batch_size,\n",
        "                    epochs=n_epochs,\n",
        "                    validation_data=validgen,\n",
        "                    steps_per_epoch=n_steps,\n",
        "                    validation_steps=n_val_steps,\n",
        "                    verbose=1)"
      ]
    },
    {
      "cell_type": "markdown",
      "metadata": {
        "id": "mMFW1P9b4DUG"
      },
      "source": [
        "Plot the graphs for accuracy and loss of both datasets"
      ]
    },
    {
      "cell_type": "code",
      "execution_count": null,
      "metadata": {
        "id": "CzNnEPdNzuoz"
      },
      "outputs": [],
      "source": [
        "plt.subplot(2, 1, 1)\n",
        "plt.plot(history.history['accuracy'], label='training accuracy')\n",
        "plt.plot(history.history['val_accuracy'], label='val accuracy')\n",
        "plt.title('Accuracy and Loss')\n",
        "plt.xlabel('epochs')\n",
        "plt.ylabel('accuracy')\n",
        "plt.legend()\n",
        "\n",
        "plt.subplot(2, 1, 2)\n",
        "plt.plot(history.history['loss'], label='training loss')\n",
        "plt.plot(history.history['val_loss'], label='val loss')\n",
        "plt.xlabel('epochs')\n",
        "plt.ylabel('loss')\n",
        "plt.legend()\n",
        "\n",
        "plt.savefig('accuracy_loss.png')"
      ]
    },
    {
      "cell_type": "markdown",
      "metadata": {
        "id": "En6oB5Bz6K2-"
      },
      "source": [
        "Test the trained model with test dataset"
      ]
    },
    {
      "cell_type": "code",
      "execution_count": null,
      "metadata": {
        "id": "KdZF8AYc6TgQ"
      },
      "outputs": [],
      "source": [
        "predict_x=model.predict(testgen) \n",
        "classes_x=np.argmax(predict_x,axis=1)\n",
        "\n",
        "labels = y_test['ClassId'].values\n",
        "print(accuracy_score(labels, classes_x))"
      ]
    }
  ],
  "metadata": {
    "colab": {
      "name": "Transfer_Learning.ipynb",
      "provenance": []
    },
    "kernelspec": {
      "display_name": "Python 3",
      "language": "python",
      "name": "python3"
    },
    "language_info": {
      "codemirror_mode": {
        "name": "ipython",
        "version": 3
      },
      "file_extension": ".py",
      "mimetype": "text/x-python",
      "name": "python",
      "nbconvert_exporter": "python",
      "pygments_lexer": "ipython3",
      "version": "3.8.5"
    }
  },
  "nbformat": 4,
  "nbformat_minor": 0
}