{
  "metadata": {
    "kernelspec": {
      "language": "python",
      "display_name": "Python 3",
      "name": "python3"
    },
    "language_info": {
      "name": "python",
      "version": "3.7.12",
      "mimetype": "text/x-python",
      "codemirror_mode": {
        "name": "ipython",
        "version": 3
      },
      "pygments_lexer": "ipython3",
      "nbconvert_exporter": "python",
      "file_extension": ".py"
    },
    "colab": {
      "name": "Parameters_tuning_epochs.ipynb",
      "provenance": []
    }
  },
  "nbformat_minor": 0,
  "nbformat": 4,
  "cells": [
    {
      "cell_type": "markdown",
      "source": [
        "Import necessary libraries"
      ],
      "metadata": {
        "id": "KLzDOuXNuLq4"
      }
    },
    {
      "cell_type": "code",
      "source": [
        "import numpy as np\n",
        "import time\n",
        "import pandas as pd\n",
        "import matplotlib.pyplot as plt\n",
        "import tensorflow as tf\n",
        "import os\n",
        "from tensorflow.keras.models import Sequential \n",
        "from tensorflow.keras.layers import Conv2D, MaxPool2D, Dense, Flatten, Dropout\n",
        "from sklearn.metrics         import accuracy_score"
      ],
      "metadata": {
        "id": "BMI0NUFttmhl",
        "execution": {
          "iopub.status.busy": "2022-01-23T20:38:28.804172Z",
          "iopub.execute_input": "2022-01-23T20:38:28.804836Z",
          "iopub.status.idle": "2022-01-23T20:38:30.670724Z",
          "shell.execute_reply.started": "2022-01-23T20:38:28.804800Z",
          "shell.execute_reply": "2022-01-23T20:38:30.670012Z"
        },
        "trusted": true
      },
      "execution_count": null,
      "outputs": []
    },
    {
      "cell_type": "markdown",
      "source": [
        "Connect your Google Drive. \n",
        "Since the files are quite big, it is much more convinient to upload them in a cloud service."
      ],
      "metadata": {
        "id": "JiTgrvjAwc2V"
      }
    },
    {
      "cell_type": "code",
      "source": [
        "from google.colab import drive\n",
        "drive.mount('/content/drive', force_remount=True)"
      ],
      "metadata": {
        "id": "yaQIUzakwsco",
        "execution": {
          "iopub.status.busy": "2022-01-23T20:38:30.672434Z",
          "iopub.execute_input": "2022-01-23T20:38:30.672740Z",
          "iopub.status.idle": "2022-01-23T20:38:30.677464Z",
          "shell.execute_reply.started": "2022-01-23T20:38:30.672706Z",
          "shell.execute_reply": "2022-01-23T20:38:30.676756Z"
        },
        "trusted": true
      },
      "execution_count": null,
      "outputs": []
    },
    {
      "cell_type": "markdown",
      "source": [
        "Read prepared train-test files"
      ],
      "metadata": {
        "id": "YFqpc37DuWHs"
      }
    },
    {
      "cell_type": "code",
      "source": [
        "link_to_drive = '/content/drive/MyDrive/DL_Final_Project/'"
      ],
      "metadata": {
        "id": "SPSjexvnxWSE",
        "execution": {
          "iopub.status.busy": "2022-01-23T20:38:37.430194Z",
          "iopub.execute_input": "2022-01-23T20:38:37.430724Z",
          "iopub.status.idle": "2022-01-23T20:38:37.436308Z",
          "shell.execute_reply.started": "2022-01-23T20:38:37.430684Z",
          "shell.execute_reply": "2022-01-23T20:38:37.433556Z"
        },
        "trusted": true
      },
      "execution_count": null,
      "outputs": []
    },
    {
      "cell_type": "code",
      "source": [
        "X_val   = np.load(link_to_drive + 'X_val.npy')\n",
        "X_train = np.load(link_to_drive + 'X_train.npy')\n",
        "y_val   = np.load(link_to_drive + 'y_val.npy')\n",
        "y_train = np.load(link_to_drive + 'y_train.npy')\n",
        "X_test  = np.load(link_to_drive + 'X_test.npy')\n",
        "y_test  = pd.read_csv(link_to_drive + 'Test.csv')"
      ],
      "metadata": {
        "id": "HQfe0L_QuHaw",
        "execution": {
          "iopub.status.busy": "2022-01-23T20:38:37.720756Z",
          "iopub.execute_input": "2022-01-23T20:38:37.721024Z",
          "iopub.status.idle": "2022-01-23T20:38:40.877784Z",
          "shell.execute_reply.started": "2022-01-23T20:38:37.720975Z",
          "shell.execute_reply": "2022-01-23T20:38:40.877066Z"
        },
        "trusted": true
      },
      "execution_count": null,
      "outputs": []
    },
    {
      "cell_type": "markdown",
      "source": [
        "Build a Convolutional Neural Network (CNN)."
      ],
      "metadata": {
        "id": "0baBDU5EyPVd"
      }
    },
    {
      "cell_type": "code",
      "source": [
        "def model_NN(X_train):\n",
        "  model = Sequential()\n",
        "  model.add(Conv2D(filters=32, kernel_size=(5,5), activation='relu', input_shape=X_train.shape[1:]))\n",
        "  model.add(Conv2D(filters=32, kernel_size=(5,5), activation='relu'))\n",
        "  model.add(MaxPool2D(pool_size=(2,2)))\n",
        "  model.add(Dropout(rate=0.25))\n",
        "  model.add(Conv2D(filters=32, kernel_size=(3,3), activation='relu'))\n",
        "  model.add(Conv2D(filters=32, kernel_size=(3,3), activation='relu'))\n",
        "  model.add(MaxPool2D(pool_size=(2,2)))\n",
        "  model.add(Dropout(rate=0.25))\n",
        "  model.add(Flatten())\n",
        "  model.add(Dense(256, activation='relu'))\n",
        "  model.add(Dropout(rate=0.5))\n",
        "  model.add(Dense(43, activation='softmax'))\n",
        "  model.compile(loss='categorical_crossentropy', optimizer='adam', metrics=['accuracy'])\n",
        "  return model"
      ],
      "metadata": {
        "id": "SQVuWAU0umvz",
        "execution": {
          "iopub.status.busy": "2022-01-23T20:38:45.866080Z",
          "iopub.execute_input": "2022-01-23T20:38:45.866732Z",
          "iopub.status.idle": "2022-01-23T20:38:45.875978Z",
          "shell.execute_reply.started": "2022-01-23T20:38:45.866692Z",
          "shell.execute_reply": "2022-01-23T20:38:45.875281Z"
        },
        "trusted": true
      },
      "execution_count": null,
      "outputs": []
    },
    {
      "cell_type": "markdown",
      "source": [
        "Loop for different number of epochs"
      ],
      "metadata": {
        "id": "NUxh3mXLzhi7"
      }
    },
    {
      "cell_type": "code",
      "source": [
        "list_epochs = [5, 10, 15, 20, 30, 50, 80, 100]\n",
        "batch_size = 64\n",
        "results = []\n",
        "\n",
        "times = []\n",
        "for epochs in list_epochs:\n",
        "  model = model_NN(X_train)\n",
        "  t = time.process_time()\n",
        "  history = model.fit(X_train, y_train, batch_size=batch_size, epochs=epochs, validation_data=(X_val, y_val))\n",
        "  predict_x = model.predict(X_test) \n",
        "  classes_x = np.argmax(predict_x,axis=1)\n",
        "  labels = y_test['ClassId'].values\n",
        "  results.append(accuracy_score(labels, classes_x))\n",
        "  print(accuracy_score(labels, classes_x))\n",
        "  elapsed_time = time.process_time() - t\n",
        "  times.append(elapsed_time)"
      ],
      "metadata": {
        "id": "lF_T_LyTx7Mm",
        "execution": {
          "iopub.status.busy": "2022-01-23T20:38:47.686479Z",
          "iopub.execute_input": "2022-01-23T20:38:47.686739Z",
          "iopub.status.idle": "2022-01-23T20:51:40.426690Z",
          "shell.execute_reply.started": "2022-01-23T20:38:47.686710Z",
          "shell.execute_reply": "2022-01-23T20:51:40.425360Z"
        },
        "trusted": true
      },
      "execution_count": null,
      "outputs": []
    },
    {
      "cell_type": "markdown",
      "source": [
        "Plot the graphs for accuracy and time dependent on number of epochs"
      ],
      "metadata": {
        "id": "mMFW1P9b4DUG"
      }
    },
    {
      "cell_type": "code",
      "source": [
        "plt.subplot(2, 1, 1)\n",
        "plt.plot(list_epochs, results, label='Accuracy_vs_Epochs')\n",
        "plt.title('Accuracy and Time')\n",
        "plt.xlabel('Epochs')\n",
        "plt.ylabel('Accuracy')\n",
        "plt.legend()\n",
        "\n",
        "plt.subplot(2, 1, 2)\n",
        "plt.plot(list_epochs, times, label='TIme_vs_Epochs')\n",
        "plt.xlabel('Epochs')\n",
        "plt.ylabel('Time')\n",
        "plt.legend()\n"
      ],
      "metadata": {
        "id": "CzNnEPdNzuoz",
        "execution": {
          "iopub.status.busy": "2022-01-23T20:52:54.200373Z",
          "iopub.execute_input": "2022-01-23T20:52:54.200676Z",
          "iopub.status.idle": "2022-01-23T20:52:54.494425Z",
          "shell.execute_reply.started": "2022-01-23T20:52:54.200645Z",
          "shell.execute_reply": "2022-01-23T20:52:54.493747Z"
        },
        "trusted": true
      },
      "execution_count": null,
      "outputs": []
    },
    {
      "cell_type": "markdown",
      "source": [
        "Test the trained model with test dataset"
      ],
      "metadata": {
        "id": "En6oB5Bz6K2-"
      }
    },
    {
      "cell_type": "code",
      "source": [
        "predict_x=model.predict(X_test) \n",
        "classes_x=np.argmax(predict_x,axis=1)\n",
        "\n",
        "labels = y_test['ClassId'].values\n",
        "print(accuracy_score(labels, classes_x))"
      ],
      "metadata": {
        "id": "KdZF8AYc6TgQ",
        "execution": {
          "iopub.status.busy": "2022-01-23T20:23:43.572144Z",
          "iopub.status.idle": "2022-01-23T20:23:43.572434Z",
          "shell.execute_reply.started": "2022-01-23T20:23:43.572276Z",
          "shell.execute_reply": "2022-01-23T20:23:43.572291Z"
        },
        "trusted": true
      },
      "execution_count": null,
      "outputs": []
    }
  ]
}