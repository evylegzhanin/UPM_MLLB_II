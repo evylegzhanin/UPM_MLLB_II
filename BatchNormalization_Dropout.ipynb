{
  "metadata": {
    "kernelspec": {
      "language": "python",
      "display_name": "Python 3",
      "name": "python3"
    },
    "language_info": {
      "name": "python",
      "version": "3.7.12",
      "mimetype": "text/x-python",
      "codemirror_mode": {
        "name": "ipython",
        "version": 3
      },
      "pygments_lexer": "ipython3",
      "nbconvert_exporter": "python",
      "file_extension": ".py"
    },
    "colab": {
      "name": "BatchNormalization_Dropout.ipynb",
      "provenance": []
    }
  },
  "nbformat_minor": 0,
  "nbformat": 4,
  "cells": [
    {
      "cell_type": "markdown",
      "source": [
        "Import necessary libraries"
      ],
      "metadata": {
        "id": "KLzDOuXNuLq4"
      }
    },
    {
      "cell_type": "code",
      "source": [
        "import numpy as np\n",
        "import time\n",
        "import pandas as pd\n",
        "import matplotlib.pyplot as plt\n",
        "import tensorflow as tf\n",
        "import os\n",
        "from tensorflow.keras.models import Sequential \n",
        "from tensorflow.keras.layers import Conv2D, MaxPool2D, Dense, Flatten, Dropout, BatchNormalization\n",
        "from sklearn.metrics         import accuracy_score"
      ],
      "metadata": {
        "id": "BMI0NUFttmhl",
        "execution": {
          "iopub.status.busy": "2022-01-23T21:12:32.260438Z",
          "iopub.execute_input": "2022-01-23T21:12:32.261321Z",
          "iopub.status.idle": "2022-01-23T21:12:32.271723Z",
          "shell.execute_reply.started": "2022-01-23T21:12:32.261275Z",
          "shell.execute_reply": "2022-01-23T21:12:32.270652Z"
        },
        "trusted": true
      },
      "execution_count": null,
      "outputs": []
    },
    {
      "cell_type": "markdown",
      "source": [
        "Connect your Google Drive. \n",
        "Since the files are quite big, it is much more convinient to upload them in a cloud service."
      ],
      "metadata": {
        "id": "JiTgrvjAwc2V"
      }
    },
    {
      "cell_type": "code",
      "source": [
        "from google.colab import drive\n",
        "drive.mount('/content/drive', force_remount=True)"
      ],
      "metadata": {
        "id": "yaQIUzakwsco",
        "execution": {
          "iopub.status.busy": "2022-01-23T21:12:32.273573Z",
          "iopub.execute_input": "2022-01-23T21:12:32.275355Z",
          "iopub.status.idle": "2022-01-23T21:12:32.278687Z",
          "shell.execute_reply.started": "2022-01-23T21:12:32.275318Z",
          "shell.execute_reply": "2022-01-23T21:12:32.278054Z"
        },
        "trusted": true
      },
      "execution_count": null,
      "outputs": []
    },
    {
      "cell_type": "markdown",
      "source": [
        "Read prepared train-test files"
      ],
      "metadata": {
        "id": "YFqpc37DuWHs"
      }
    },
    {
      "cell_type": "code",
      "source": [
        "link_to_drive = '/content/drive/MyDrive/DL_Final_Project/'"
      ],
      "metadata": {
        "id": "SPSjexvnxWSE",
        "execution": {
          "iopub.status.busy": "2022-01-23T21:12:32.279962Z",
          "iopub.execute_input": "2022-01-23T21:12:32.281823Z",
          "iopub.status.idle": "2022-01-23T21:12:32.296112Z",
          "shell.execute_reply.started": "2022-01-23T21:12:32.281786Z",
          "shell.execute_reply": "2022-01-23T21:12:32.294942Z"
        },
        "trusted": true
      },
      "execution_count": null,
      "outputs": []
    },
    {
      "cell_type": "code",
      "source": [
        "X_val   = np.load(link_to_drive + 'X_val.npy')\n",
        "X_train = np.load(link_to_drive + 'X_train.npy')\n",
        "y_val   = np.load(link_to_drive + 'y_val.npy')\n",
        "y_train = np.load(link_to_drive + 'y_train.npy')\n",
        "X_test  = np.load(link_to_drive + 'X_test.npy')\n",
        "y_test  = pd.read_csv(link_to_drive + 'Test.csv')"
      ],
      "metadata": {
        "id": "HQfe0L_QuHaw",
        "execution": {
          "iopub.status.busy": "2022-01-23T21:12:32.300311Z",
          "iopub.execute_input": "2022-01-23T21:12:32.301585Z",
          "iopub.status.idle": "2022-01-23T21:12:32.388756Z",
          "shell.execute_reply.started": "2022-01-23T21:12:32.301544Z",
          "shell.execute_reply": "2022-01-23T21:12:32.388048Z"
        },
        "trusted": true
      },
      "execution_count": null,
      "outputs": []
    },
    {
      "cell_type": "markdown",
      "source": [
        "Build a Convolutional Neural Network (CNN)."
      ],
      "metadata": {
        "id": "0baBDU5EyPVd"
      }
    },
    {
      "cell_type": "code",
      "source": [
        "def model_NN(X_train):\n",
        "  model = Sequential()\n",
        "  model.add(Conv2D(filters=32, kernel_size=(5,5), activation='relu', input_shape=X_train.shape[1:]))\n",
        "  model.add(BatchNormalization())\n",
        "  model.add(Conv2D(filters=32, kernel_size=(5,5), activation='relu'))\n",
        "  model.add(BatchNormalization())\n",
        "  model.add(MaxPool2D(pool_size=(2,2)))\n",
        "  model.add(BatchNormalization())\n",
        "  model.add(Dropout(rate=0.25))\n",
        "  model.add(Conv2D(filters=32, kernel_size=(3,3), activation='relu'))\n",
        "  model.add(BatchNormalization())\n",
        "  model.add(Conv2D(filters=32, kernel_size=(3,3), activation='relu'))\n",
        "  model.add(BatchNormalization())\n",
        "  model.add(MaxPool2D(pool_size=(2,2)))\n",
        "  model.add(BatchNormalization())\n",
        "  model.add(Dropout(rate=0.25))\n",
        "  model.add(Flatten())\n",
        "  model.add(Dense(256, activation='relu'))\n",
        "  model.add(Dropout(rate=0.5))\n",
        "  model.add(Dense(43, activation='softmax'))\n",
        "  model.compile(loss='categorical_crossentropy', optimizer='adam', metrics=['accuracy'])\n",
        "  return model"
      ],
      "metadata": {
        "id": "SQVuWAU0umvz",
        "execution": {
          "iopub.status.busy": "2022-01-23T21:12:32.390197Z",
          "iopub.execute_input": "2022-01-23T21:12:32.390450Z",
          "iopub.status.idle": "2022-01-23T21:12:32.400807Z",
          "shell.execute_reply.started": "2022-01-23T21:12:32.390415Z",
          "shell.execute_reply": "2022-01-23T21:12:32.399883Z"
        },
        "trusted": true
      },
      "execution_count": null,
      "outputs": []
    },
    {
      "cell_type": "markdown",
      "source": [
        "Train the CNN model"
      ],
      "metadata": {
        "id": "NUxh3mXLzhi7"
      }
    },
    {
      "cell_type": "code",
      "source": [
        "epochs = 15\n",
        "batch_size = 64\n",
        "model = model_NN(X_train)\n",
        "history = model.fit(X_train, y_train, batch_size=batch_size, epochs=epochs, validation_data=(X_val, y_val))"
      ],
      "metadata": {
        "id": "lF_T_LyTx7Mm",
        "execution": {
          "iopub.status.busy": "2022-01-23T21:12:32.402263Z",
          "iopub.execute_input": "2022-01-23T21:12:32.402824Z",
          "iopub.status.idle": "2022-01-23T21:13:55.255588Z",
          "shell.execute_reply.started": "2022-01-23T21:12:32.402787Z",
          "shell.execute_reply": "2022-01-23T21:13:55.254797Z"
        },
        "trusted": true
      },
      "execution_count": null,
      "outputs": []
    },
    {
      "cell_type": "markdown",
      "source": [
        "Plot the graphs for accuracy and loss of both datasets"
      ],
      "metadata": {
        "id": "mMFW1P9b4DUG"
      }
    },
    {
      "cell_type": "code",
      "source": [
        "plt.subplot(2, 1, 1)\n",
        "plt.plot(history.history['accuracy'], label='training accuracy')\n",
        "plt.plot(history.history['val_accuracy'], label='val accuracy')\n",
        "plt.title('Accuracy and Loss')\n",
        "plt.xlabel('epochs')\n",
        "plt.ylabel('accuracy')\n",
        "plt.legend()\n",
        "\n",
        "plt.subplot(2, 1, 2)\n",
        "plt.plot(history.history['loss'], label='training loss')\n",
        "plt.plot(history.history['val_loss'], label='val loss')\n",
        "plt.xlabel('epochs')\n",
        "plt.ylabel('loss')\n",
        "plt.legend()"
      ],
      "metadata": {
        "id": "CzNnEPdNzuoz",
        "execution": {
          "iopub.status.busy": "2022-01-23T21:13:55.257302Z",
          "iopub.execute_input": "2022-01-23T21:13:55.257733Z",
          "iopub.status.idle": "2022-01-23T21:13:55.607537Z",
          "shell.execute_reply.started": "2022-01-23T21:13:55.257693Z",
          "shell.execute_reply": "2022-01-23T21:13:55.606820Z"
        },
        "trusted": true
      },
      "execution_count": null,
      "outputs": []
    },
    {
      "cell_type": "markdown",
      "source": [
        "Test the trained model with test dataset"
      ],
      "metadata": {
        "id": "En6oB5Bz6K2-"
      }
    },
    {
      "cell_type": "code",
      "source": [
        "predict_x=model.predict(X_test) \n",
        "classes_x=np.argmax(predict_x,axis=1)\n",
        "\n",
        "labels = y_test['ClassId'].values\n",
        "print(accuracy_score(labels, classes_x))"
      ],
      "metadata": {
        "id": "KdZF8AYc6TgQ",
        "execution": {
          "iopub.status.busy": "2022-01-23T21:13:55.608923Z",
          "iopub.execute_input": "2022-01-23T21:13:55.609177Z",
          "iopub.status.idle": "2022-01-23T21:13:56.384133Z",
          "shell.execute_reply.started": "2022-01-23T21:13:55.609143Z",
          "shell.execute_reply": "2022-01-23T21:13:56.383356Z"
        },
        "trusted": true
      },
      "execution_count": null,
      "outputs": []
    }
  ]
}