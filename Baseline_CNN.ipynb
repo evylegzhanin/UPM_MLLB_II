{
  "cells": [
    {
      "cell_type": "markdown",
      "metadata": {
        "id": "KLzDOuXNuLq4"
      },
      "source": [
        "Import necessary libraries"
      ]
    },
    {
      "cell_type": "code",
      "execution_count": null,
      "metadata": {
        "id": "BMI0NUFttmhl"
      },
      "outputs": [],
      "source": [
        "import numpy as np\n",
        "import pandas as pd\n",
        "import matplotlib.pyplot as plt\n",
        "import tensorflow as tf\n",
        "import os\n",
        "from tensorflow.keras.models import Sequential \n",
        "from tensorflow.keras.layers import Conv2D, MaxPool2D, Dense, Flatten, Dropout\n",
        "from sklearn.metrics         import accuracy_score"
      ]
    },
    {
      "cell_type": "markdown",
      "metadata": {
        "id": "JiTgrvjAwc2V"
      },
      "source": [
        "Connect your Google Drive. \n",
        "Since the files are quite big, it is much more convinient to upload them in a cloud service."
      ]
    },
    {
      "cell_type": "code",
      "execution_count": null,
      "metadata": {
        "colab": {
          "base_uri": "https://localhost:8080/"
        },
        "id": "yaQIUzakwsco",
        "outputId": "1d65934e-5dd3-4c00-dfdf-f5dd4410a8dd"
      },
      "outputs": [
        {
          "output_type": "stream",
          "name": "stdout",
          "text": [
            "Mounted at /content/drive\n"
          ]
        }
      ],
      "source": [
        "from google.colab import drive\n",
        "drive.mount('/content/drive', force_remount=True)"
      ]
    },
    {
      "cell_type": "markdown",
      "metadata": {
        "id": "YFqpc37DuWHs"
      },
      "source": [
        "Read prepared train-test files"
      ]
    },
    {
      "cell_type": "code",
      "execution_count": null,
      "metadata": {
        "id": "SPSjexvnxWSE"
      },
      "outputs": [],
      "source": [
        "link_to_drive = '/content/drive/MyDrive/DL_Final_Project/'"
      ]
    },
    {
      "cell_type": "code",
      "execution_count": null,
      "metadata": {
        "id": "HQfe0L_QuHaw"
      },
      "outputs": [],
      "source": [
        "X_val   = np.load(link_to_drive + 'X_val.npy')\n",
        "X_train = np.load(link_to_drive + 'X_train.npy')\n",
        "y_val   = np.load(link_to_drive + 'y_val.npy')\n",
        "y_train = np.load(link_to_drive + 'y_train.npy')\n",
        "X_test  = np.load(link_to_drive + 'X_test.npy')\n",
        "y_test  = pd.read_csv(link_to_drive + 'Test.csv')"
      ]
    },
    {
      "cell_type": "markdown",
      "metadata": {
        "id": "0baBDU5EyPVd"
      },
      "source": [
        "Build a Convolutional Neural Network (CNN). It is said to be the best for image classification purposes."
      ]
    },
    {
      "cell_type": "code",
      "execution_count": null,
      "metadata": {
        "id": "SQVuWAU0umvz"
      },
      "outputs": [],
      "source": [
        "model = Sequential()\n",
        "model.add(Conv2D(filters=32, kernel_size=(5,5), activation='relu', input_shape=X_train.shape[1:]))\n",
        "model.add(Conv2D(filters=32, kernel_size=(5,5), activation='relu'))\n",
        "model.add(MaxPool2D(pool_size=(2,2)))\n",
        "model.add(Dropout(rate=0.25))\n",
        "model.add(Conv2D(filters=32, kernel_size=(3,3), activation='relu'))\n",
        "model.add(Conv2D(filters=32, kernel_size=(3,3), activation='relu'))\n",
        "model.add(MaxPool2D(pool_size=(2,2)))\n",
        "model.add(Dropout(rate=0.25))\n",
        "model.add(Flatten())\n",
        "model.add(Dense(256, activation='relu'))\n",
        "model.add(Dropout(rate=0.5))\n",
        "model.add(Dense(43, activation='softmax'))\n",
        "\n",
        "model.compile(loss='categorical_crossentropy', optimizer='adam', metrics=['accuracy'])"
      ]
    },
    {
      "cell_type": "markdown",
      "metadata": {
        "id": "NUxh3mXLzhi7"
      },
      "source": [
        "Train the CNN model"
      ]
    },
    {
      "cell_type": "code",
      "execution_count": null,
      "metadata": {
        "colab": {
          "base_uri": "https://localhost:8080/"
        },
        "id": "lF_T_LyTx7Mm",
        "outputId": "2498f5ee-ff77-4156-9c36-6646e1e90615"
      },
      "outputs": [
        {
          "output_type": "stream",
          "name": "stdout",
          "text": [
            "Epoch 1/20\n",
            "491/491 [==============================] - 8s 15ms/step - loss: 2.7952 - accuracy: 0.3195 - val_loss: 1.3159 - val_accuracy: 0.6607\n",
            "Epoch 2/20\n",
            "491/491 [==============================] - 8s 16ms/step - loss: 1.1724 - accuracy: 0.6674 - val_loss: 0.5848 - val_accuracy: 0.8653\n",
            "Epoch 3/20\n",
            "491/491 [==============================] - 7s 14ms/step - loss: 0.7613 - accuracy: 0.7776 - val_loss: 0.4119 - val_accuracy: 0.8901\n",
            "Epoch 4/20\n",
            "491/491 [==============================] - 8s 15ms/step - loss: 0.5948 - accuracy: 0.8257 - val_loss: 0.2298 - val_accuracy: 0.9346\n",
            "Epoch 5/20\n",
            "491/491 [==============================] - 8s 16ms/step - loss: 0.4944 - accuracy: 0.8526 - val_loss: 0.1511 - val_accuracy: 0.9617\n",
            "Epoch 6/20\n",
            "491/491 [==============================] - 7s 14ms/step - loss: 0.4260 - accuracy: 0.8754 - val_loss: 0.1317 - val_accuracy: 0.9670\n",
            "Epoch 7/20\n",
            "491/491 [==============================] - 7s 14ms/step - loss: 0.3657 - accuracy: 0.8924 - val_loss: 0.1011 - val_accuracy: 0.9753\n",
            "Epoch 8/20\n",
            "491/491 [==============================] - 8s 16ms/step - loss: 0.3538 - accuracy: 0.8964 - val_loss: 0.1218 - val_accuracy: 0.9695\n",
            "Epoch 9/20\n",
            "491/491 [==============================] - 7s 14ms/step - loss: 0.3266 - accuracy: 0.9016 - val_loss: 0.0899 - val_accuracy: 0.9751\n",
            "Epoch 10/20\n",
            "491/491 [==============================] - 7s 14ms/step - loss: 0.2927 - accuracy: 0.9132 - val_loss: 0.0738 - val_accuracy: 0.9833\n",
            "Epoch 11/20\n",
            "491/491 [==============================] - 8s 16ms/step - loss: 0.2887 - accuracy: 0.9154 - val_loss: 0.0746 - val_accuracy: 0.9814\n",
            "Epoch 12/20\n",
            "491/491 [==============================] - 8s 16ms/step - loss: 0.2686 - accuracy: 0.9226 - val_loss: 0.0869 - val_accuracy: 0.9756\n",
            "Epoch 13/20\n",
            "491/491 [==============================] - 7s 14ms/step - loss: 0.2580 - accuracy: 0.9253 - val_loss: 0.0902 - val_accuracy: 0.9767\n",
            "Epoch 14/20\n",
            "491/491 [==============================] - 7s 14ms/step - loss: 0.2432 - accuracy: 0.9287 - val_loss: 0.0557 - val_accuracy: 0.9861\n",
            "Epoch 15/20\n",
            "491/491 [==============================] - 7s 14ms/step - loss: 0.2273 - accuracy: 0.9342 - val_loss: 0.0571 - val_accuracy: 0.9836\n",
            "Epoch 16/20\n",
            "491/491 [==============================] - 8s 16ms/step - loss: 0.2371 - accuracy: 0.9324 - val_loss: 0.0691 - val_accuracy: 0.9809\n",
            "Epoch 17/20\n",
            "491/491 [==============================] - 7s 14ms/step - loss: 0.2105 - accuracy: 0.9385 - val_loss: 0.0721 - val_accuracy: 0.9788\n",
            "Epoch 18/20\n",
            "491/491 [==============================] - 8s 16ms/step - loss: 0.2073 - accuracy: 0.9412 - val_loss: 0.0529 - val_accuracy: 0.9853\n",
            "Epoch 19/20\n",
            "491/491 [==============================] - 8s 16ms/step - loss: 0.2184 - accuracy: 0.9375 - val_loss: 0.0676 - val_accuracy: 0.9825\n",
            "Epoch 20/20\n",
            "491/491 [==============================] - 7s 14ms/step - loss: 0.2028 - accuracy: 0.9428 - val_loss: 0.0669 - val_accuracy: 0.9816\n"
          ]
        }
      ],
      "source": [
        "epochs = 20\n",
        "history = model.fit(X_train, y_train, batch_size=64, epochs=epochs, validation_data=(X_val, y_val))"
      ]
    },
    {
      "cell_type": "markdown",
      "metadata": {
        "id": "mMFW1P9b4DUG"
      },
      "source": [
        "Plot the graphs for accuracy and loss of both datasets"
      ]
    },
    {
      "cell_type": "code",
      "execution_count": null,
      "metadata": {
        "colab": {
          "base_uri": "https://localhost:8080/",
          "height": 590
        },
        "id": "CzNnEPdNzuoz",
        "outputId": "60f37ebb-c552-4a4b-b5ea-7e26977019a2"
      },
      "outputs": [
        {
          "output_type": "execute_result",
          "data": {
            "text/plain": [
              "<matplotlib.legend.Legend at 0x7fd51f0d6510>"
            ]
          },
          "metadata": {},
          "execution_count": 28
        },
        {
          "output_type": "display_data",
          "data": {
            "image/png": "[encoded data removed]",
            "text/plain": [
              "<Figure size 432x288 with 1 Axes>"
            ]
          },
          "metadata": {
            "needs_background": "light"
          }
        },
        {
          "output_type": "display_data",
          "data": {
            "image/png": "[encoded data removed]",
            "text/plain": [
              "<Figure size 432x288 with 1 Axes>"
            ]
          },
          "metadata": {
            "needs_background": "light"
          }
        }
      ],
      "source": [
        "plt.figure(0)\n",
        "plt.plot(history.history['accuracy'], label='training accuracy')\n",
        "plt.plot(history.history['val_accuracy'], label='val accuracy')\n",
        "plt.title('Accuracy')\n",
        "plt.xlabel('epochs')\n",
        "plt.ylabel('accuracy')\n",
        "plt.legend()\n",
        "\n",
        "plt.figure(1)\n",
        "plt.plot(history.history['loss'], label='training loss')\n",
        "plt.plot(history.history['val_loss'], label='val loss')\n",
        "plt.title('Loss')\n",
        "plt.xlabel('epochs')\n",
        "plt.ylabel('loss')\n",
        "plt.legend()"
      ]
    },
    {
      "cell_type": "markdown",
      "metadata": {
        "id": "En6oB5Bz6K2-"
      },
      "source": [
        "Test the trained model with test dataset"
      ]
    },
    {
      "cell_type": "code",
      "execution_count": null,
      "metadata": {
        "colab": {
          "base_uri": "https://localhost:8080/"
        },
        "id": "KdZF8AYc6TgQ",
        "outputId": "3f79edad-ec88-43f2-a1ba-1b9f2a9d15d5"
      },
      "outputs": [
        {
          "output_type": "stream",
          "name": "stdout",
          "text": [
            "0.9406967537608868\n"
          ]
        }
      ],
      "source": [
        "predict_x=model.predict(X_test) \n",
        "classes_x=np.argmax(predict_x,axis=1)\n",
        "\n",
        "labels = y_test['ClassId'].values\n",
        "print(accuracy_score(labels, classes_x))"
      ]
    }
  ],
  "metadata": {
    "accelerator": "GPU",
    "colab": {
      "name": "Baseline_CNN.ipynb",
      "provenance": []
    },
    "kernelspec": {
      "display_name": "Python 3",
      "name": "python3"
    },
    "language_info": {
      "name": "python"
    }
  },
  "nbformat": 4,
  "nbformat_minor": 0
}