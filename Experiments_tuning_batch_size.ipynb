{
  "cells": [
    {
      "cell_type": "markdown",
      "metadata": {
        "id": "KLzDOuXNuLq4"
      },
      "source": [
        "Import necessary libraries"
      ]
    },
    {
      "cell_type": "code",
      "execution_count": null,
      "metadata": {
        "id": "BMI0NUFttmhl"
      },
      "outputs": [],
      "source": [
        "import numpy as np\n",
        "import time\n",
        "import pandas as pd\n",
        "import matplotlib.pyplot as plt\n",
        "import tensorflow as tf\n",
        "import os\n",
        "from tensorflow.keras.models import Sequential \n",
        "from tensorflow.keras.layers import Conv2D, MaxPool2D, Dense, Flatten, Dropout\n",
        "from sklearn.metrics         import accuracy_score"
      ]
    },
    {
      "cell_type": "markdown",
      "metadata": {
        "id": "JiTgrvjAwc2V"
      },
      "source": [
        "Connect your Google Drive. \n",
        "Since the files are quite big, it is much more convinient to upload them in a cloud service."
      ]
    },
    {
      "cell_type": "code",
      "execution_count": null,
      "metadata": {
        "colab": {
          "base_uri": "https://localhost:8080/"
        },
        "id": "yaQIUzakwsco",
        "outputId": "4a446a80-76a1-402a-d337-d0e20a3df3b3"
      },
      "outputs": [
        {
          "output_type": "stream",
          "name": "stdout",
          "text": [
            "Mounted at /content/drive\n"
          ]
        }
      ],
      "source": [
        "from google.colab import drive\n",
        "drive.mount('/content/drive', force_remount=True)"
      ]
    },
    {
      "cell_type": "markdown",
      "metadata": {
        "id": "YFqpc37DuWHs"
      },
      "source": [
        "Read prepared train-test files"
      ]
    },
    {
      "cell_type": "code",
      "execution_count": null,
      "metadata": {
        "id": "SPSjexvnxWSE"
      },
      "outputs": [],
      "source": [
        "link_to_drive = '/content/drive/MyDrive/DL_Final_Project/'"
      ]
    },
    {
      "cell_type": "code",
      "execution_count": null,
      "metadata": {
        "id": "HQfe0L_QuHaw"
      },
      "outputs": [],
      "source": [
        "X_val   = np.load(link_to_drive + 'X_val.npy')\n",
        "X_train = np.load(link_to_drive + 'X_train.npy')\n",
        "y_val   = np.load(link_to_drive + 'y_val.npy')\n",
        "y_train = np.load(link_to_drive + 'y_train.npy')\n",
        "X_test  = np.load(link_to_drive + 'X_test.npy')\n",
        "y_test  = pd.read_csv(link_to_drive + 'Test.csv')"
      ]
    },
    {
      "cell_type": "markdown",
      "metadata": {
        "id": "0baBDU5EyPVd"
      },
      "source": [
        "Build a Convolutional Neural Network (CNN)."
      ]
    },
    {
      "cell_type": "code",
      "execution_count": null,
      "metadata": {
        "id": "SQVuWAU0umvz"
      },
      "outputs": [],
      "source": [
        "def model_NN(X_train):\n",
        "  model = Sequential()\n",
        "  model.add(Conv2D(filters=32, kernel_size=(5,5), activation='relu', input_shape=X_train.shape[1:]))\n",
        "  model.add(Conv2D(filters=32, kernel_size=(5,5), activation='relu'))\n",
        "  model.add(MaxPool2D(pool_size=(2,2)))\n",
        "  model.add(Dropout(rate=0.25))\n",
        "  model.add(Conv2D(filters=32, kernel_size=(3,3), activation='relu'))\n",
        "  model.add(Conv2D(filters=32, kernel_size=(3,3), activation='relu'))\n",
        "  model.add(MaxPool2D(pool_size=(2,2)))\n",
        "  model.add(Dropout(rate=0.25))\n",
        "  model.add(Flatten())\n",
        "  model.add(Dense(256, activation='relu'))\n",
        "  model.add(Dropout(rate=0.5))\n",
        "  model.add(Dense(43, activation='softmax'))\n",
        "  model.compile(loss='categorical_crossentropy', optimizer='adam', metrics=['accuracy'])\n",
        "  return model"
      ]
    },
    {
      "cell_type": "markdown",
      "metadata": {
        "id": "NUxh3mXLzhi7"
      },
      "source": [
        "Train the CNN model"
      ]
    },
    {
      "cell_type": "code",
      "execution_count": null,
      "metadata": {
        "colab": {
          "base_uri": "https://localhost:8080/"
        },
        "id": "lF_T_LyTx7Mm",
        "outputId": "cb5690cd-8ca1-4aa2-9668-be7c3e886c40"
      },
      "outputs": [
        {
          "output_type": "stream",
          "name": "stdout",
          "text": [
            "Epoch 1/20\n",
            "3921/3921 [==============================] - 34s 9ms/step - loss: 1.8662 - accuracy: 0.4967 - val_loss: 0.8031 - val_accuracy: 0.7793\n",
            "Epoch 2/20\n",
            "3921/3921 [==============================] - 35s 9ms/step - loss: 0.9556 - accuracy: 0.7195 - val_loss: 0.4502 - val_accuracy: 0.8611\n",
            "Epoch 3/20\n",
            "3921/3921 [==============================] - 33s 9ms/step - loss: 0.8359 - accuracy: 0.7525 - val_loss: 0.3177 - val_accuracy: 0.9021\n",
            "Epoch 4/20\n",
            "3921/3921 [==============================] - 33s 9ms/step - loss: 0.7639 - accuracy: 0.7700 - val_loss: 0.3441 - val_accuracy: 0.8873\n",
            "Epoch 5/20\n",
            "3921/3921 [==============================] - 34s 9ms/step - loss: 0.7268 - accuracy: 0.7831 - val_loss: 0.3267 - val_accuracy: 0.9035\n",
            "Epoch 6/20\n",
            "3921/3921 [==============================] - 34s 9ms/step - loss: 0.7218 - accuracy: 0.7875 - val_loss: 0.2846 - val_accuracy: 0.9161\n",
            "Epoch 7/20\n",
            "3921/3921 [==============================] - 33s 8ms/step - loss: 0.7197 - accuracy: 0.7885 - val_loss: 0.2781 - val_accuracy: 0.9213\n",
            "Epoch 8/20\n",
            "3921/3921 [==============================] - 35s 9ms/step - loss: 0.6461 - accuracy: 0.8093 - val_loss: 0.3538 - val_accuracy: 0.8967\n",
            "Epoch 9/20\n",
            "3921/3921 [==============================] - 35s 9ms/step - loss: 0.6106 - accuracy: 0.8212 - val_loss: 0.2464 - val_accuracy: 0.9245\n",
            "Epoch 10/20\n",
            "3921/3921 [==============================] - 35s 9ms/step - loss: 0.6029 - accuracy: 0.8283 - val_loss: 0.2304 - val_accuracy: 0.9323\n",
            "Epoch 11/20\n",
            "3921/3921 [==============================] - 36s 9ms/step - loss: 0.5743 - accuracy: 0.8344 - val_loss: 0.2767 - val_accuracy: 0.9135\n",
            "Epoch 12/20\n",
            "3921/3921 [==============================] - 34s 9ms/step - loss: 0.5581 - accuracy: 0.8449 - val_loss: 0.2033 - val_accuracy: 0.9396\n",
            "Epoch 13/20\n",
            "3921/3921 [==============================] - 34s 9ms/step - loss: 0.5493 - accuracy: 0.8424 - val_loss: 0.1955 - val_accuracy: 0.9404\n",
            "Epoch 14/20\n",
            "3921/3921 [==============================] - 35s 9ms/step - loss: 0.5659 - accuracy: 0.8409 - val_loss: 0.2869 - val_accuracy: 0.9161\n",
            "Epoch 15/20\n",
            "3921/3921 [==============================] - 34s 9ms/step - loss: 0.5888 - accuracy: 0.8359 - val_loss: 0.2526 - val_accuracy: 0.9232\n",
            "Epoch 16/20\n",
            "3921/3921 [==============================] - 34s 9ms/step - loss: 0.6607 - accuracy: 0.8175 - val_loss: 0.2527 - val_accuracy: 0.9259\n",
            "Epoch 17/20\n",
            "3921/3921 [==============================] - 34s 9ms/step - loss: 0.5850 - accuracy: 0.8353 - val_loss: 0.2086 - val_accuracy: 0.9370\n",
            "Epoch 18/20\n",
            "3921/3921 [==============================] - 34s 9ms/step - loss: 0.6387 - accuracy: 0.8220 - val_loss: 0.1929 - val_accuracy: 0.9415\n",
            "Epoch 19/20\n",
            "3921/3921 [==============================] - 34s 9ms/step - loss: 0.5933 - accuracy: 0.8382 - val_loss: 0.2782 - val_accuracy: 0.9194\n",
            "Epoch 20/20\n",
            "3921/3921 [==============================] - 35s 9ms/step - loss: 0.5645 - accuracy: 0.8430 - val_loss: 0.1701 - val_accuracy: 0.9489\n",
            "0.9015043547110055\n",
            "Epoch 1/20\n",
            "1961/1961 [==============================] - 26s 13ms/step - loss: 3.5779 - accuracy: 0.0527 - val_loss: 3.4797 - val_accuracy: 0.0574\n",
            "Epoch 2/20\n",
            "1961/1961 [==============================] - 19s 10ms/step - loss: 2.9476 - accuracy: 0.2018 - val_loss: 1.2814 - val_accuracy: 0.6585\n",
            "Epoch 3/20\n",
            "1961/1961 [==============================] - 18s 9ms/step - loss: 1.1792 - accuracy: 0.6527 - val_loss: 0.4240 - val_accuracy: 0.8815\n",
            "Epoch 4/20\n",
            "1961/1961 [==============================] - 19s 10ms/step - loss: 0.7079 - accuracy: 0.7905 - val_loss: 0.3247 - val_accuracy: 0.9023\n",
            "Epoch 5/20\n",
            "1961/1961 [==============================] - 19s 10ms/step - loss: 0.5518 - accuracy: 0.8348 - val_loss: 0.2723 - val_accuracy: 0.9206\n",
            "Epoch 6/20\n",
            "1961/1961 [==============================] - 18s 9ms/step - loss: 0.4790 - accuracy: 0.8582 - val_loss: 0.1613 - val_accuracy: 0.9521\n",
            "Epoch 7/20\n",
            "1961/1961 [==============================] - 18s 9ms/step - loss: 0.4349 - accuracy: 0.8738 - val_loss: 0.1599 - val_accuracy: 0.9552\n",
            "Epoch 8/20\n",
            "1961/1961 [==============================] - 19s 10ms/step - loss: 0.4120 - accuracy: 0.8812 - val_loss: 0.1448 - val_accuracy: 0.9561\n",
            "Epoch 9/20\n",
            "1961/1961 [==============================] - 18s 9ms/step - loss: 0.3894 - accuracy: 0.8878 - val_loss: 0.1101 - val_accuracy: 0.9699\n",
            "Epoch 10/20\n",
            "1961/1961 [==============================] - 18s 9ms/step - loss: 0.3772 - accuracy: 0.8904 - val_loss: 0.1602 - val_accuracy: 0.9523\n",
            "Epoch 11/20\n",
            "1961/1961 [==============================] - 19s 10ms/step - loss: 0.3810 - accuracy: 0.8914 - val_loss: 0.1484 - val_accuracy: 0.9580\n",
            "Epoch 12/20\n",
            "1961/1961 [==============================] - 19s 10ms/step - loss: 0.3821 - accuracy: 0.8929 - val_loss: 0.1106 - val_accuracy: 0.9702\n",
            "Epoch 13/20\n",
            "1961/1961 [==============================] - 19s 10ms/step - loss: 0.4048 - accuracy: 0.8920 - val_loss: 0.1224 - val_accuracy: 0.9693\n",
            "Epoch 14/20\n",
            "1961/1961 [==============================] - 19s 10ms/step - loss: 0.3619 - accuracy: 0.9010 - val_loss: 0.1132 - val_accuracy: 0.9689\n",
            "Epoch 15/20\n",
            "1961/1961 [==============================] - 19s 10ms/step - loss: 0.3721 - accuracy: 0.8989 - val_loss: 0.1221 - val_accuracy: 0.9635\n",
            "Epoch 16/20\n",
            "1961/1961 [==============================] - 19s 10ms/step - loss: 0.3678 - accuracy: 0.8982 - val_loss: 0.0970 - val_accuracy: 0.9725\n",
            "Epoch 17/20\n",
            "1961/1961 [==============================] - 19s 10ms/step - loss: 0.3442 - accuracy: 0.9037 - val_loss: 0.1362 - val_accuracy: 0.9592\n",
            "Epoch 18/20\n",
            "1961/1961 [==============================] - 19s 10ms/step - loss: 0.3772 - accuracy: 0.9003 - val_loss: 0.1221 - val_accuracy: 0.9658\n",
            "Epoch 19/20\n",
            "1961/1961 [==============================] - 18s 9ms/step - loss: 0.3423 - accuracy: 0.9063 - val_loss: 0.1646 - val_accuracy: 0.9555\n",
            "Epoch 20/20\n",
            "1961/1961 [==============================] - 18s 9ms/step - loss: 0.3682 - accuracy: 0.9033 - val_loss: 0.0964 - val_accuracy: 0.9713\n",
            "0.9385589865399842\n",
            "Epoch 1/20\n",
            "981/981 [==============================] - 11s 10ms/step - loss: 2.3040 - accuracy: 0.3970 - val_loss: 1.2251 - val_accuracy: 0.6562\n",
            "Epoch 2/20\n",
            "981/981 [==============================] - 10s 10ms/step - loss: 1.2743 - accuracy: 0.6075 - val_loss: 0.6491 - val_accuracy: 0.8205\n",
            "Epoch 3/20\n",
            "981/981 [==============================] - 10s 10ms/step - loss: 0.9417 - accuracy: 0.7085 - val_loss: 0.4440 - val_accuracy: 0.8782\n",
            "Epoch 4/20\n",
            "981/981 [==============================] - 10s 10ms/step - loss: 0.7890 - accuracy: 0.7541 - val_loss: 0.3397 - val_accuracy: 0.9068\n",
            "Epoch 5/20\n",
            "981/981 [==============================] - 10s 10ms/step - loss: 0.6986 - accuracy: 0.7837 - val_loss: 0.3131 - val_accuracy: 0.9058\n",
            "Epoch 6/20\n",
            "981/981 [==============================] - 10s 10ms/step - loss: 0.6427 - accuracy: 0.8025 - val_loss: 0.2625 - val_accuracy: 0.9246\n",
            "Epoch 7/20\n",
            "981/981 [==============================] - 10s 10ms/step - loss: 0.6075 - accuracy: 0.8133 - val_loss: 0.2578 - val_accuracy: 0.9276\n",
            "Epoch 8/20\n",
            "981/981 [==============================] - 10s 10ms/step - loss: 0.5768 - accuracy: 0.8229 - val_loss: 0.2072 - val_accuracy: 0.9374\n",
            "Epoch 9/20\n",
            "981/981 [==============================] - 10s 10ms/step - loss: 0.5533 - accuracy: 0.8305 - val_loss: 0.3056 - val_accuracy: 0.8999\n",
            "Epoch 10/20\n",
            "981/981 [==============================] - 10s 10ms/step - loss: 0.5275 - accuracy: 0.8368 - val_loss: 0.2034 - val_accuracy: 0.9399\n",
            "Epoch 11/20\n",
            "981/981 [==============================] - 10s 10ms/step - loss: 0.5305 - accuracy: 0.8368 - val_loss: 0.1925 - val_accuracy: 0.9448\n",
            "Epoch 12/20\n",
            "981/981 [==============================] - 10s 10ms/step - loss: 0.5044 - accuracy: 0.8466 - val_loss: 0.2188 - val_accuracy: 0.9380\n",
            "Epoch 13/20\n",
            "981/981 [==============================] - 10s 10ms/step - loss: 0.5013 - accuracy: 0.8443 - val_loss: 0.2133 - val_accuracy: 0.9388\n",
            "Epoch 14/20\n",
            "981/981 [==============================] - 10s 11ms/step - loss: 0.5107 - accuracy: 0.8449 - val_loss: 0.1784 - val_accuracy: 0.9491\n",
            "Epoch 15/20\n",
            "981/981 [==============================] - 10s 10ms/step - loss: 0.4800 - accuracy: 0.8541 - val_loss: 0.1883 - val_accuracy: 0.9416\n",
            "Epoch 16/20\n",
            "981/981 [==============================] - 10s 10ms/step - loss: 0.4725 - accuracy: 0.8561 - val_loss: 0.2042 - val_accuracy: 0.9435\n",
            "Epoch 17/20\n",
            "981/981 [==============================] - 10s 11ms/step - loss: 0.4825 - accuracy: 0.8513 - val_loss: 0.2013 - val_accuracy: 0.9362\n",
            "Epoch 18/20\n",
            "981/981 [==============================] - 10s 10ms/step - loss: 0.4650 - accuracy: 0.8553 - val_loss: 0.1821 - val_accuracy: 0.9439\n",
            "Epoch 19/20\n",
            "981/981 [==============================] - 10s 10ms/step - loss: 0.4796 - accuracy: 0.8543 - val_loss: 0.1511 - val_accuracy: 0.9532\n",
            "Epoch 20/20\n",
            "981/981 [==============================] - 10s 10ms/step - loss: 0.4529 - accuracy: 0.8610 - val_loss: 0.1566 - val_accuracy: 0.9533\n",
            "0.9031670625494853\n",
            "Epoch 1/20\n",
            "491/491 [==============================] - 7s 12ms/step - loss: 2.5831 - accuracy: 0.3789 - val_loss: 0.8735 - val_accuracy: 0.8188\n",
            "Epoch 2/20\n",
            "491/491 [==============================] - 6s 12ms/step - loss: 1.0907 - accuracy: 0.6857 - val_loss: 0.4278 - val_accuracy: 0.8973\n",
            "Epoch 3/20\n",
            "491/491 [==============================] - 6s 12ms/step - loss: 0.8087 - accuracy: 0.7576 - val_loss: 0.3182 - val_accuracy: 0.9120\n",
            "Epoch 4/20\n",
            "491/491 [==============================] - 6s 12ms/step - loss: 0.6768 - accuracy: 0.7973 - val_loss: 0.2437 - val_accuracy: 0.9313\n",
            "Epoch 5/20\n",
            "491/491 [==============================] - 6s 12ms/step - loss: 0.6014 - accuracy: 0.8196 - val_loss: 0.2645 - val_accuracy: 0.9223\n",
            "Epoch 6/20\n",
            "491/491 [==============================] - 6s 12ms/step - loss: 0.5631 - accuracy: 0.8306 - val_loss: 0.2027 - val_accuracy: 0.9415\n",
            "Epoch 7/20\n",
            "491/491 [==============================] - 6s 12ms/step - loss: 0.5133 - accuracy: 0.8457 - val_loss: 0.1901 - val_accuracy: 0.9419\n",
            "Epoch 8/20\n",
            "491/491 [==============================] - 6s 12ms/step - loss: 0.4681 - accuracy: 0.8577 - val_loss: 0.1465 - val_accuracy: 0.9566\n",
            "Epoch 9/20\n",
            "491/491 [==============================] - 6s 12ms/step - loss: 0.4600 - accuracy: 0.8629 - val_loss: 0.1517 - val_accuracy: 0.9575\n",
            "Epoch 10/20\n",
            "491/491 [==============================] - 6s 12ms/step - loss: 0.4322 - accuracy: 0.8687 - val_loss: 0.1529 - val_accuracy: 0.9572\n",
            "Epoch 11/20\n",
            "491/491 [==============================] - 6s 12ms/step - loss: 0.4264 - accuracy: 0.8726 - val_loss: 0.1315 - val_accuracy: 0.9640\n",
            "Epoch 12/20\n",
            "491/491 [==============================] - 6s 12ms/step - loss: 0.3886 - accuracy: 0.8817 - val_loss: 0.1423 - val_accuracy: 0.9609\n",
            "Epoch 13/20\n",
            "491/491 [==============================] - 6s 12ms/step - loss: 0.3883 - accuracy: 0.8824 - val_loss: 0.1284 - val_accuracy: 0.9584\n",
            "Epoch 14/20\n",
            "491/491 [==============================] - 6s 12ms/step - loss: 0.3619 - accuracy: 0.8896 - val_loss: 0.1279 - val_accuracy: 0.9644\n",
            "Epoch 15/20\n",
            "491/491 [==============================] - 6s 12ms/step - loss: 0.3457 - accuracy: 0.8955 - val_loss: 0.1294 - val_accuracy: 0.9625\n",
            "Epoch 16/20\n",
            "491/491 [==============================] - 6s 12ms/step - loss: 0.3429 - accuracy: 0.8973 - val_loss: 0.1520 - val_accuracy: 0.9547\n",
            "Epoch 17/20\n",
            "491/491 [==============================] - 6s 12ms/step - loss: 0.3166 - accuracy: 0.9052 - val_loss: 0.1040 - val_accuracy: 0.9703\n",
            "Epoch 18/20\n",
            "491/491 [==============================] - 6s 12ms/step - loss: 0.2911 - accuracy: 0.9122 - val_loss: 0.0948 - val_accuracy: 0.9726\n",
            "Epoch 19/20\n",
            "491/491 [==============================] - 6s 12ms/step - loss: 0.2817 - accuracy: 0.9153 - val_loss: 0.0984 - val_accuracy: 0.9697\n",
            "Epoch 20/20\n",
            "491/491 [==============================] - 6s 12ms/step - loss: 0.2667 - accuracy: 0.9207 - val_loss: 0.0733 - val_accuracy: 0.9787\n",
            "0.9300079176563737\n",
            "Epoch 1/20\n",
            "246/246 [==============================] - 5s 17ms/step - loss: 3.1497 - accuracy: 0.2630 - val_loss: 1.3921 - val_accuracy: 0.7076\n",
            "Epoch 2/20\n",
            "246/246 [==============================] - 4s 15ms/step - loss: 1.1368 - accuracy: 0.6787 - val_loss: 0.3770 - val_accuracy: 0.9060\n",
            "Epoch 3/20\n",
            "246/246 [==============================] - 4s 16ms/step - loss: 0.6439 - accuracy: 0.8217 - val_loss: 0.2251 - val_accuracy: 0.9549\n",
            "Epoch 4/20\n",
            "246/246 [==============================] - 4s 14ms/step - loss: 0.4371 - accuracy: 0.8803 - val_loss: 0.1453 - val_accuracy: 0.9653\n",
            "Epoch 5/20\n",
            "246/246 [==============================] - 4s 16ms/step - loss: 0.3521 - accuracy: 0.9042 - val_loss: 0.1006 - val_accuracy: 0.9773\n",
            "Epoch 6/20\n",
            "246/246 [==============================] - 4s 16ms/step - loss: 0.2804 - accuracy: 0.9199 - val_loss: 0.0860 - val_accuracy: 0.9804\n",
            "Epoch 7/20\n",
            "246/246 [==============================] - 4s 15ms/step - loss: 0.2388 - accuracy: 0.9338 - val_loss: 0.0655 - val_accuracy: 0.9836\n",
            "Epoch 8/20\n",
            "246/246 [==============================] - 4s 16ms/step - loss: 0.2131 - accuracy: 0.9418 - val_loss: 0.0545 - val_accuracy: 0.9866\n",
            "Epoch 9/20\n",
            "246/246 [==============================] - 4s 16ms/step - loss: 0.1951 - accuracy: 0.9468 - val_loss: 0.0663 - val_accuracy: 0.9839\n",
            "Epoch 10/20\n",
            "246/246 [==============================] - 4s 16ms/step - loss: 0.1584 - accuracy: 0.9556 - val_loss: 0.0442 - val_accuracy: 0.9892\n",
            "Epoch 11/20\n",
            "246/246 [==============================] - 4s 15ms/step - loss: 0.1543 - accuracy: 0.9580 - val_loss: 0.0409 - val_accuracy: 0.9911\n",
            "Epoch 12/20\n",
            "246/246 [==============================] - 4s 15ms/step - loss: 0.1562 - accuracy: 0.9566 - val_loss: 0.0393 - val_accuracy: 0.9912\n",
            "Epoch 13/20\n",
            "246/246 [==============================] - 4s 16ms/step - loss: 0.1311 - accuracy: 0.9646 - val_loss: 0.0450 - val_accuracy: 0.9898\n",
            "Epoch 14/20\n",
            "246/246 [==============================] - 4s 15ms/step - loss: 0.1497 - accuracy: 0.9591 - val_loss: 0.0419 - val_accuracy: 0.9902\n",
            "Epoch 15/20\n",
            "246/246 [==============================] - 4s 16ms/step - loss: 0.1264 - accuracy: 0.9657 - val_loss: 0.0323 - val_accuracy: 0.9934\n",
            "Epoch 16/20\n",
            "246/246 [==============================] - 4s 16ms/step - loss: 0.1197 - accuracy: 0.9681 - val_loss: 0.0557 - val_accuracy: 0.9857\n",
            "Epoch 17/20\n",
            "246/246 [==============================] - 4s 15ms/step - loss: 0.1275 - accuracy: 0.9675 - val_loss: 0.0735 - val_accuracy: 0.9833\n",
            "Epoch 18/20\n",
            "246/246 [==============================] - 4s 16ms/step - loss: 0.1880 - accuracy: 0.9502 - val_loss: 0.0367 - val_accuracy: 0.9931\n",
            "Epoch 19/20\n",
            "246/246 [==============================] - 4s 16ms/step - loss: 0.1113 - accuracy: 0.9692 - val_loss: 0.0418 - val_accuracy: 0.9899\n",
            "Epoch 20/20\n",
            "246/246 [==============================] - 4s 16ms/step - loss: 0.1424 - accuracy: 0.9623 - val_loss: 0.0291 - val_accuracy: 0.9932\n",
            "0.9630245447347585\n"
          ]
        }
      ],
      "source": [
        "epochs = 20\n",
        "list_bs = [8, 16, 32, 64, 128]\n",
        "results = []\n",
        "times = []\n",
        "for batch_size in list_bs:\n",
        "  model = model_NN(X_train)\n",
        "  t = time.process_time()\n",
        "  history = model.fit(X_train, y_train, batch_size=batch_size, epochs=epochs, validation_data=(X_val, y_val))\n",
        "  predict_x = model.predict(X_test) \n",
        "  classes_x = np.argmax(predict_x,axis=1)\n",
        "  labels = y_test['ClassId'].values\n",
        "  results.append(accuracy_score(labels, classes_x))\n",
        "  print(accuracy_score(labels, classes_x))\n",
        "  elapsed_time = time.process_time() - t\n",
        "  times.append(elapsed_time)"
      ]
    },
    {
      "cell_type": "markdown",
      "metadata": {
        "id": "mMFW1P9b4DUG"
      },
      "source": [
        "Plot the graphs for accuracy and time for different batch sizes"
      ]
    },
    {
      "cell_type": "code",
      "execution_count": null,
      "metadata": {
        "colab": {
          "base_uri": "https://localhost:8080/",
          "height": 296
        },
        "id": "CzNnEPdNzuoz",
        "outputId": "d0871db0-54b9-4a2c-ba5a-b3dac97b880e"
      },
      "outputs": [
        {
          "output_type": "display_data",
          "data": {
            "image/png": "[encoded data removed]",
            "text/plain": [
              "<Figure size 432x288 with 2 Axes>"
            ]
          },
          "metadata": {
            "needs_background": "light"
          }
        }
      ],
      "source": [
        "plt.subplot(2, 1, 1)\n",
        "plt.plot(list_bs, results, label='Accuracy_vs_BatchSize')\n",
        "plt.title('Accuracy and Time')\n",
        "plt.xlabel('Batch_size')\n",
        "plt.ylabel('Accuracy')\n",
        "plt.legend()\n",
        "\n",
        "plt.subplot(2, 1, 2)\n",
        "plt.plot(list_bs, times, label='TIme_vs_BatchSize')\n",
        "plt.xlabel('Batch_size')\n",
        "plt.ylabel('Time')\n",
        "plt.legend()\n",
        "plt.savefig('BatchSize.png')"
      ]
    },
    {
      "cell_type": "markdown",
      "metadata": {
        "id": "En6oB5Bz6K2-"
      },
      "source": [
        "Test the trained model with test dataset"
      ]
    },
    {
      "cell_type": "code",
      "execution_count": null,
      "metadata": {
        "colab": {
          "base_uri": "https://localhost:8080/"
        },
        "id": "KdZF8AYc6TgQ",
        "outputId": "7f8d6e78-0c2a-4328-9c47-86f1ce25f5d4"
      },
      "outputs": [
        {
          "output_type": "stream",
          "name": "stdout",
          "text": [
            "0.9630245447347585\n"
          ]
        }
      ],
      "source": [
        "predict_x=model.predict(X_test) \n",
        "classes_x=np.argmax(predict_x,axis=1)\n",
        "\n",
        "labels = y_test['ClassId'].values\n",
        "print(accuracy_score(labels, classes_x))"
      ]
    }
  ],
  "metadata": {
    "accelerator": "GPU",
    "colab": {
      "name": "Experiments_tuning_batch_size.ipynb",
      "provenance": []
    },
    "kernelspec": {
      "display_name": "Python 3",
      "name": "python3"
    },
    "language_info": {
      "name": "python"
    }
  },
  "nbformat": 4,
  "nbformat_minor": 0
}