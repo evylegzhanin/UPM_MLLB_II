{
  "cells": [
    {
      "cell_type": "code",
      "execution_count": null,
      "metadata": {
        "id": "V1RBdcDJBsOq"
      },
      "outputs": [],
      "source": [
        "pip install tensorflow keras sklearn matplotlib pandas"
      ]
    },
    {
      "cell_type": "code",
      "execution_count": null,
      "metadata": {
        "id": "Ts_3-LSjNrnG"
      },
      "outputs": [],
      "source": [
        "import numpy as np\n",
        "import pandas as pd\n",
        "import matplotlib.pyplot as plt\n",
        "import tensorflow as tf\n",
        "from PIL import Image\n",
        "import os\n",
        "from sklearn.model_selection import train_test_split\n",
        "from tensorflow.keras.utils import to_categorical\n",
        "from tensorflow.keras.models import Sequential\n",
        "from tensorflow.keras.layers import Conv2D, MaxPool2D, Dense, Flatten, Dropout "
      ]
    },
    {
      "cell_type": "code",
      "execution_count": null,
      "metadata": {
        "id": "xrpNeXZLOGSt"
      },
      "outputs": [],
      "source": [
        "data = []\n",
        "labels = []\n",
        "classes = 43\n",
        "cur_path = os.getcwd()\n",
        "\n",
        "for i in range(classes):\n",
        "  path = os.path.join(cur_path, 'train', str(i))\n",
        "  images = os.listdir(path)\n",
        "\n",
        "  for a in images: \n",
        "    try:\n",
        "      image = Image.open(path + '\\\\' + a)\n",
        "      image = image.resize((30, 30))\n",
        "      image = np.array(image)\n",
        "      data.append(image)\n",
        "      labels.append(i)\n",
        "    except: \n",
        "      print('Error loading image')\n",
        "\n",
        "data = np.array(data)\n",
        "labels = np.array(labels)"
      ]
    },
    {
      "cell_type": "code",
      "execution_count": null,
      "metadata": {
        "id": "uaRu1PV9PTj9",
        "outputId": "16adb308-61ad-4528-eb82-097d44832695"
      },
      "outputs": [
        {
          "name": "stdout",
          "output_type": "stream",
          "text": [
            "(39209, 30, 30, 3) (39209,)\n",
            "(31367, 30, 30, 3) (12630, 30, 30, 3) (31367, 43) (12630, 8)\n"
          ]
        }
      ],
      "source": [
        "X_train, X_val, y_train, y_val = train_test_split(data, labels, test_size=0.2, random_state=42)\n",
        "print(data.shape, labels.shape)\n",
        "y_train = to_categorical(y_train, 43)\n",
        "y_val = to_categorical(y_val, 43)\n",
        "print(X_train.shape, X_test.shape, y_train.shape, y_test.shape)"
      ]
    },
    {
      "cell_type": "code",
      "execution_count": null,
      "metadata": {
        "id": "reR6apjWBsO0"
      },
      "outputs": [],
      "source": [
        "np.save('X_train.npy', X_train)\n",
        "np.save('X_val.npy', X_val)\n",
        "np.save('y_train.npy', y_train)\n",
        "np.save('y_val.npy', y_val)"
      ]
    },
    {
      "cell_type": "code",
      "execution_count": null,
      "metadata": {
        "id": "8qwVQULRBsO1"
      },
      "outputs": [],
      "source": [
        "y_test = pd.read_csv('Test.csv')\n",
        "\n",
        "labels = y_test['ClassId'].values\n",
        "imgs = y_test[\"Path\"].values\n",
        "\n",
        "data = []\n",
        "for img in imgs:\n",
        "    image = Image.open(img)\n",
        "    image = image.resize((30,30))\n",
        "    data.append(np.array(image))\n",
        "\n",
        "X_test = np.array(data)"
      ]
    },
    {
      "cell_type": "code",
      "execution_count": null,
      "metadata": {
        "id": "DEj08FmqBsO3"
      },
      "outputs": [],
      "source": [
        "np.save('X_test.npy', X_test)"
      ]
    }
  ],
  "metadata": {
    "colab": {
      "name": "train_test_splitting.ipynb",
      "provenance": []
    },
    "kernelspec": {
      "display_name": "Python 3",
      "language": "python",
      "name": "python3"
    },
    "language_info": {
      "codemirror_mode": {
        "name": "ipython",
        "version": 3
      },
      "file_extension": ".py",
      "mimetype": "text/x-python",
      "name": "python",
      "nbconvert_exporter": "python",
      "pygments_lexer": "ipython3",
      "version": "3.8.5"
    }
  },
  "nbformat": 4,
  "nbformat_minor": 0
}